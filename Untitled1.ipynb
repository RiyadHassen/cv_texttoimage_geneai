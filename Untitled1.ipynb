{
  "nbformat": 4,
  "nbformat_minor": 0,
  "metadata": {
    "colab": {
      "provenance": []
    },
    "kernelspec": {
      "name": "python3",
      "display_name": "Python 3"
    },
    "language_info": {
      "name": "python"
    }
  },
  "cells": [
    {
      "cell_type": "code",
      "source": [
        "!git clone https://github.com/huggingface/diffusers"
      ],
      "metadata": {
        "id": "KQVF8R3zWmal"
      },
      "execution_count": null,
      "outputs": []
    },
    {
      "cell_type": "code",
      "source": [
        "%cd diffusers"
      ],
      "metadata": {
        "colab": {
          "base_uri": "https://localhost:8080/"
        },
        "id": "s_1n7s2kh0l9",
        "outputId": "475c8383-bab6-4e44-b208-69344839e4b9"
      },
      "execution_count": null,
      "outputs": [
        {
          "output_type": "stream",
          "name": "stdout",
          "text": [
            "/content/diffusers\n"
          ]
        }
      ]
    },
    {
      "cell_type": "code",
      "source": [
        "!pwd"
      ],
      "metadata": {
        "id": "kSNvhOCmW_w_"
      },
      "execution_count": null,
      "outputs": []
    },
    {
      "cell_type": "code",
      "source": [
        "!pip install clip-retrieval"
      ],
      "metadata": {
        "id": "dpeUJu_lXKLh"
      },
      "execution_count": null,
      "outputs": []
    },
    {
      "cell_type": "code",
      "source": [
        "!pwd\n",
        "%cd examples/custom_diffusion"
      ],
      "metadata": {
        "colab": {
          "base_uri": "https://localhost:8080/"
        },
        "id": "rj4da0-Sl3rU",
        "outputId": "b15b02e8-0f5c-48dc-8b3a-f03699e7db13"
      },
      "execution_count": null,
      "outputs": [
        {
          "output_type": "stream",
          "name": "stdout",
          "text": [
            "/content/diffusers\n",
            "/content/diffusers/examples/custom_diffusion\n"
          ]
        }
      ]
    },
    {
      "cell_type": "code",
      "source": [
        "!pip install -r requirements.txt"
      ],
      "metadata": {
        "id": "8TBPB3WUXX2a"
      },
      "execution_count": null,
      "outputs": []
    },
    {
      "cell_type": "code",
      "source": [
        "%cd ../.."
      ],
      "metadata": {
        "colab": {
          "base_uri": "https://localhost:8080/"
        },
        "id": "YqJrIwjRiYVy",
        "outputId": "33b24411-82cc-4b58-f10e-c6b945d4d79d"
      },
      "execution_count": null,
      "outputs": [
        {
          "output_type": "stream",
          "name": "stdout",
          "text": [
            "/content/diffusers\n"
          ]
        }
      ]
    },
    {
      "cell_type": "code",
      "source": [
        "!pip install -e ."
      ],
      "metadata": {
        "id": "npfCfNmoZS_b"
      },
      "execution_count": null,
      "outputs": []
    },
    {
      "cell_type": "code",
      "source": [
        "%cd examples/custom_diffusion/"
      ],
      "metadata": {
        "colab": {
          "base_uri": "https://localhost:8080/"
        },
        "id": "EsL_Pj54Zctk",
        "outputId": "cbfcf602-be8a-4943-b574-adcd606b02cf"
      },
      "execution_count": null,
      "outputs": [
        {
          "output_type": "stream",
          "name": "stdout",
          "text": [
            "/content/diffusers/examples/custom_diffusion\n"
          ]
        }
      ]
    },
    {
      "cell_type": "code",
      "source": [
        "!pip install -r requirements.txt\n"
      ],
      "metadata": {
        "id": "07GQHQBBZtAT"
      },
      "execution_count": null,
      "outputs": []
    },
    {
      "cell_type": "code",
      "source": [
        "!accelerate config"
      ],
      "metadata": {
        "id": "fLQQdhuKZxWy"
      },
      "execution_count": null,
      "outputs": []
    },
    {
      "cell_type": "code",
      "source": [
        "!pip install transformers -U"
      ],
      "metadata": {
        "colab": {
          "base_uri": "https://localhost:8080/"
        },
        "id": "_E-09BzEi3-U",
        "outputId": "17b17f08-82bb-4077-ff8b-7f20f1414b3f"
      },
      "execution_count": null,
      "outputs": [
        {
          "output_type": "stream",
          "name": "stdout",
          "text": [
            "Requirement already satisfied: transformers in /usr/local/lib/python3.10/dist-packages (4.35.2)\n",
            "Collecting transformers\n",
            "  Downloading transformers-4.40.1-py3-none-any.whl (9.0 MB)\n",
            "\u001b[2K     \u001b[90m━━━━━━━━━━━━━━━━━━━━━━━━━━━━━━━━━━━━━━━━\u001b[0m \u001b[32m9.0/9.0 MB\u001b[0m \u001b[31m24.5 MB/s\u001b[0m eta \u001b[36m0:00:00\u001b[0m\n",
            "\u001b[?25hRequirement already satisfied: filelock in /usr/local/lib/python3.10/dist-packages (from transformers) (3.13.1)\n",
            "Requirement already satisfied: huggingface-hub<1.0,>=0.19.3 in /usr/local/lib/python3.10/dist-packages (from transformers) (0.20.3)\n",
            "Requirement already satisfied: numpy>=1.17 in /usr/local/lib/python3.10/dist-packages (from transformers) (1.23.5)\n",
            "Requirement already satisfied: packaging>=20.0 in /usr/local/lib/python3.10/dist-packages (from transformers) (23.2)\n",
            "Requirement already satisfied: pyyaml>=5.1 in /usr/local/lib/python3.10/dist-packages (from transformers) (6.0.1)\n",
            "Requirement already satisfied: regex!=2019.12.17 in /usr/local/lib/python3.10/dist-packages (from transformers) (2023.12.25)\n",
            "Requirement already satisfied: requests in /usr/local/lib/python3.10/dist-packages (from transformers) (2.31.0)\n",
            "Collecting tokenizers<0.20,>=0.19 (from transformers)\n",
            "  Using cached tokenizers-0.19.1-cp310-cp310-manylinux_2_17_x86_64.manylinux2014_x86_64.whl (3.6 MB)\n",
            "Requirement already satisfied: safetensors>=0.4.1 in /usr/local/lib/python3.10/dist-packages (from transformers) (0.4.2)\n",
            "Requirement already satisfied: tqdm>=4.27 in /usr/local/lib/python3.10/dist-packages (from transformers) (4.66.1)\n",
            "Requirement already satisfied: fsspec>=2023.5.0 in /usr/local/lib/python3.10/dist-packages (from huggingface-hub<1.0,>=0.19.3->transformers) (2023.6.0)\n",
            "Requirement already satisfied: typing-extensions>=3.7.4.3 in /usr/local/lib/python3.10/dist-packages (from huggingface-hub<1.0,>=0.19.3->transformers) (4.11.0)\n",
            "Requirement already satisfied: charset-normalizer<4,>=2 in /usr/local/lib/python3.10/dist-packages (from requests->transformers) (3.3.2)\n",
            "Requirement already satisfied: idna<4,>=2.5 in /usr/local/lib/python3.10/dist-packages (from requests->transformers) (3.6)\n",
            "Requirement already satisfied: urllib3<3,>=1.21.1 in /usr/local/lib/python3.10/dist-packages (from requests->transformers) (1.26.18)\n",
            "Requirement already satisfied: certifi>=2017.4.17 in /usr/local/lib/python3.10/dist-packages (from requests->transformers) (2024.2.2)\n",
            "Installing collected packages: tokenizers, transformers\n",
            "  Attempting uninstall: tokenizers\n",
            "    Found existing installation: tokenizers 0.15.1\n",
            "    Uninstalling tokenizers-0.15.1:\n",
            "      Successfully uninstalled tokenizers-0.15.1\n",
            "  Attempting uninstall: transformers\n",
            "    Found existing installation: transformers 4.35.2\n",
            "    Uninstalling transformers-4.35.2:\n",
            "      Successfully uninstalled transformers-4.35.2\n",
            "\u001b[31mERROR: pip's dependency resolver does not currently take into account all the packages that are installed. This behaviour is the source of the following dependency conflicts.\n",
            "embedchain 0.1.102 requires sqlalchemy<3.0.0,>=2.0.27, but you have sqlalchemy 2.0.25 which is incompatible.\u001b[0m\u001b[31m\n",
            "\u001b[0mSuccessfully installed tokenizers-0.19.1 transformers-4.40.1\n"
          ]
        }
      ]
    },
    {
      "cell_type": "code",
      "source": [
        " !pip install -e ..//..//."
      ],
      "metadata": {
        "colab": {
          "base_uri": "https://localhost:8080/"
        },
        "id": "bPP1Dt67jD6p",
        "outputId": "e5d8d16b-ea83-4621-8041-6df39e49e749"
      },
      "execution_count": null,
      "outputs": [
        {
          "output_type": "stream",
          "name": "stdout",
          "text": [
            "Obtaining file:///content/diffusers\n",
            "  Installing build dependencies ... \u001b[?25l\u001b[?25hdone\n",
            "  Checking if build backend supports build_editable ... \u001b[?25l\u001b[?25hdone\n",
            "  Getting requirements to build editable ... \u001b[?25l\u001b[?25hdone\n",
            "  Preparing editable metadata (pyproject.toml) ... \u001b[?25l\u001b[?25hdone\n",
            "Requirement already satisfied: importlib-metadata in /usr/local/lib/python3.10/dist-packages (from diffusers==0.28.0.dev0) (7.0.0)\n",
            "Requirement already satisfied: filelock in /usr/local/lib/python3.10/dist-packages (from diffusers==0.28.0.dev0) (3.13.1)\n",
            "Requirement already satisfied: huggingface-hub>=0.20.2 in /usr/local/lib/python3.10/dist-packages (from diffusers==0.28.0.dev0) (0.20.3)\n",
            "Requirement already satisfied: numpy in /usr/local/lib/python3.10/dist-packages (from diffusers==0.28.0.dev0) (1.23.5)\n",
            "Requirement already satisfied: regex!=2019.12.17 in /usr/local/lib/python3.10/dist-packages (from diffusers==0.28.0.dev0) (2023.12.25)\n",
            "Requirement already satisfied: requests in /usr/local/lib/python3.10/dist-packages (from diffusers==0.28.0.dev0) (2.31.0)\n",
            "Requirement already satisfied: safetensors>=0.3.1 in /usr/local/lib/python3.10/dist-packages (from diffusers==0.28.0.dev0) (0.4.2)\n",
            "Requirement already satisfied: Pillow in /usr/local/lib/python3.10/dist-packages (from diffusers==0.28.0.dev0) (9.4.0)\n",
            "Requirement already satisfied: fsspec>=2023.5.0 in /usr/local/lib/python3.10/dist-packages (from huggingface-hub>=0.20.2->diffusers==0.28.0.dev0) (2023.6.0)\n",
            "Requirement already satisfied: tqdm>=4.42.1 in /usr/local/lib/python3.10/dist-packages (from huggingface-hub>=0.20.2->diffusers==0.28.0.dev0) (4.66.1)\n",
            "Requirement already satisfied: pyyaml>=5.1 in /usr/local/lib/python3.10/dist-packages (from huggingface-hub>=0.20.2->diffusers==0.28.0.dev0) (6.0.1)\n",
            "Requirement already satisfied: typing-extensions>=3.7.4.3 in /usr/local/lib/python3.10/dist-packages (from huggingface-hub>=0.20.2->diffusers==0.28.0.dev0) (4.11.0)\n",
            "Requirement already satisfied: packaging>=20.9 in /usr/local/lib/python3.10/dist-packages (from huggingface-hub>=0.20.2->diffusers==0.28.0.dev0) (23.2)\n",
            "Requirement already satisfied: zipp>=0.5 in /usr/local/lib/python3.10/dist-packages (from importlib-metadata->diffusers==0.28.0.dev0) (3.17.0)\n",
            "Requirement already satisfied: charset-normalizer<4,>=2 in /usr/local/lib/python3.10/dist-packages (from requests->diffusers==0.28.0.dev0) (3.3.2)\n",
            "Requirement already satisfied: idna<4,>=2.5 in /usr/local/lib/python3.10/dist-packages (from requests->diffusers==0.28.0.dev0) (3.6)\n",
            "Requirement already satisfied: urllib3<3,>=1.21.1 in /usr/local/lib/python3.10/dist-packages (from requests->diffusers==0.28.0.dev0) (1.26.18)\n",
            "Requirement already satisfied: certifi>=2017.4.17 in /usr/local/lib/python3.10/dist-packages (from requests->diffusers==0.28.0.dev0) (2024.2.2)\n",
            "Building wheels for collected packages: diffusers\n",
            "  Building editable for diffusers (pyproject.toml) ... \u001b[?25l\u001b[?25hdone\n",
            "  Created wheel for diffusers: filename=diffusers-0.28.0.dev0-0.editable-py3-none-any.whl size=11104 sha256=e008d5e92563c7a6c3453aa15df3d1188ba575465e5ac835c4334567b44a8635\n",
            "  Stored in directory: /tmp/pip-ephem-wheel-cache-7otf_i_l/wheels/95/c5/3b/e1b4269f8a2584de57e75f949a185b48fc4144e9a91fc9965a\n",
            "Successfully built diffusers\n",
            "Installing collected packages: diffusers\n",
            "  Attempting uninstall: diffusers\n",
            "    Found existing installation: diffusers 0.28.0.dev0\n",
            "    Uninstalling diffusers-0.28.0.dev0:\n",
            "      Successfully uninstalled diffusers-0.28.0.dev0\n",
            "Successfully installed diffusers-0.28.0.dev0\n"
          ]
        }
      ]
    },
    {
      "cell_type": "code",
      "source": [
        "from accelerate.utils import write_basic_config\n",
        "write_basic_config()\n"
      ],
      "metadata": {
        "colab": {
          "base_uri": "https://localhost:8080/",
          "height": 560
        },
        "id": "XvpbcnXNZ4D6",
        "outputId": "034178bd-8b30-42f5-921d-730491f1978c"
      },
      "execution_count": null,
      "outputs": [
        {
          "output_type": "error",
          "ename": "ImportError",
          "evalue": "tokenizers>=0.14,<0.19 is required for a normal functioning of this module, but found tokenizers==0.19.1.\nTry: pip install transformers -U or pip install -e '.[dev]' if you're working with git main",
          "traceback": [
            "\u001b[0;31m---------------------------------------------------------------------------\u001b[0m",
            "\u001b[0;31mImportError\u001b[0m                               Traceback (most recent call last)",
            "\u001b[0;32m<ipython-input-20-b94afd01bf11>\u001b[0m in \u001b[0;36m<cell line: 1>\u001b[0;34m()\u001b[0m\n\u001b[0;32m----> 1\u001b[0;31m \u001b[0;32mfrom\u001b[0m \u001b[0maccelerate\u001b[0m\u001b[0;34m.\u001b[0m\u001b[0mutils\u001b[0m \u001b[0;32mimport\u001b[0m \u001b[0mwrite_basic_config\u001b[0m\u001b[0;34m\u001b[0m\u001b[0;34m\u001b[0m\u001b[0m\n\u001b[0m\u001b[1;32m      2\u001b[0m \u001b[0mwrite_basic_config\u001b[0m\u001b[0;34m(\u001b[0m\u001b[0;34m)\u001b[0m\u001b[0;34m\u001b[0m\u001b[0;34m\u001b[0m\u001b[0m\n",
            "\u001b[0;32m/usr/local/lib/python3.10/dist-packages/accelerate/__init__.py\u001b[0m in \u001b[0;36m<module>\u001b[0;34m\u001b[0m\n\u001b[1;32m     14\u001b[0m \u001b[0m__version__\u001b[0m \u001b[0;34m=\u001b[0m \u001b[0;34m\"0.29.3\"\u001b[0m\u001b[0;34m\u001b[0m\u001b[0;34m\u001b[0m\u001b[0m\n\u001b[1;32m     15\u001b[0m \u001b[0;34m\u001b[0m\u001b[0m\n\u001b[0;32m---> 16\u001b[0;31m \u001b[0;32mfrom\u001b[0m \u001b[0;34m.\u001b[0m\u001b[0maccelerator\u001b[0m \u001b[0;32mimport\u001b[0m \u001b[0mAccelerator\u001b[0m\u001b[0;34m\u001b[0m\u001b[0;34m\u001b[0m\u001b[0m\n\u001b[0m\u001b[1;32m     17\u001b[0m from .big_modeling import (\n\u001b[1;32m     18\u001b[0m     \u001b[0mcpu_offload\u001b[0m\u001b[0;34m,\u001b[0m\u001b[0;34m\u001b[0m\u001b[0;34m\u001b[0m\u001b[0m\n",
            "\u001b[0;32m/usr/local/lib/python3.10/dist-packages/accelerate/accelerator.py\u001b[0m in \u001b[0;36m<module>\u001b[0;34m\u001b[0m\n\u001b[1;32m     33\u001b[0m \u001b[0;32mimport\u001b[0m \u001b[0mtorch\u001b[0m\u001b[0;34m.\u001b[0m\u001b[0mutils\u001b[0m\u001b[0;34m.\u001b[0m\u001b[0mhooks\u001b[0m \u001b[0;32mas\u001b[0m \u001b[0mhooks\u001b[0m\u001b[0;34m\u001b[0m\u001b[0;34m\u001b[0m\u001b[0m\n\u001b[1;32m     34\u001b[0m \u001b[0;34m\u001b[0m\u001b[0m\n\u001b[0;32m---> 35\u001b[0;31m \u001b[0;32mfrom\u001b[0m \u001b[0;34m.\u001b[0m\u001b[0mcheckpointing\u001b[0m \u001b[0;32mimport\u001b[0m \u001b[0mload_accelerator_state\u001b[0m\u001b[0;34m,\u001b[0m \u001b[0mload_custom_state\u001b[0m\u001b[0;34m,\u001b[0m \u001b[0msave_accelerator_state\u001b[0m\u001b[0;34m,\u001b[0m \u001b[0msave_custom_state\u001b[0m\u001b[0;34m\u001b[0m\u001b[0;34m\u001b[0m\u001b[0m\n\u001b[0m\u001b[1;32m     36\u001b[0m \u001b[0;32mfrom\u001b[0m \u001b[0;34m.\u001b[0m\u001b[0mdata_loader\u001b[0m \u001b[0;32mimport\u001b[0m \u001b[0mDataLoaderDispatcher\u001b[0m\u001b[0;34m,\u001b[0m \u001b[0mprepare_data_loader\u001b[0m\u001b[0;34m,\u001b[0m \u001b[0mskip_first_batches\u001b[0m\u001b[0;34m\u001b[0m\u001b[0;34m\u001b[0m\u001b[0m\n\u001b[1;32m     37\u001b[0m \u001b[0;32mfrom\u001b[0m \u001b[0;34m.\u001b[0m\u001b[0mhooks\u001b[0m \u001b[0;32mimport\u001b[0m \u001b[0mAlignDevicesHook\u001b[0m\u001b[0;34m\u001b[0m\u001b[0;34m\u001b[0m\u001b[0m\n",
            "\u001b[0;32m/usr/local/lib/python3.10/dist-packages/accelerate/checkpointing.py\u001b[0m in \u001b[0;36m<module>\u001b[0;34m\u001b[0m\n\u001b[1;32m     22\u001b[0m \u001b[0;32mfrom\u001b[0m \u001b[0mtorch\u001b[0m\u001b[0;34m.\u001b[0m\u001b[0mcuda\u001b[0m\u001b[0;34m.\u001b[0m\u001b[0mamp\u001b[0m \u001b[0;32mimport\u001b[0m \u001b[0mGradScaler\u001b[0m\u001b[0;34m\u001b[0m\u001b[0;34m\u001b[0m\u001b[0m\n\u001b[1;32m     23\u001b[0m \u001b[0;34m\u001b[0m\u001b[0m\n\u001b[0;32m---> 24\u001b[0;31m from .utils import (\n\u001b[0m\u001b[1;32m     25\u001b[0m     \u001b[0mMODEL_NAME\u001b[0m\u001b[0;34m,\u001b[0m\u001b[0;34m\u001b[0m\u001b[0;34m\u001b[0m\u001b[0m\n\u001b[1;32m     26\u001b[0m     \u001b[0mOPTIMIZER_NAME\u001b[0m\u001b[0;34m,\u001b[0m\u001b[0;34m\u001b[0m\u001b[0;34m\u001b[0m\u001b[0m\n",
            "\u001b[0;32m/usr/local/lib/python3.10/dist-packages/accelerate/utils/__init__.py\u001b[0m in \u001b[0;36m<module>\u001b[0;34m\u001b[0m\n\u001b[1;32m    186\u001b[0m     \u001b[0mprepare_tpu\u001b[0m\u001b[0;34m,\u001b[0m\u001b[0;34m\u001b[0m\u001b[0;34m\u001b[0m\u001b[0m\n\u001b[1;32m    187\u001b[0m )\n\u001b[0;32m--> 188\u001b[0;31m from .megatron_lm import (\n\u001b[0m\u001b[1;32m    189\u001b[0m     \u001b[0mAbstractTrainStep\u001b[0m\u001b[0;34m,\u001b[0m\u001b[0;34m\u001b[0m\u001b[0;34m\u001b[0m\u001b[0m\n\u001b[1;32m    190\u001b[0m     \u001b[0mBertTrainStep\u001b[0m\u001b[0;34m,\u001b[0m\u001b[0;34m\u001b[0m\u001b[0;34m\u001b[0m\u001b[0m\n",
            "\u001b[0;32m/usr/local/lib/python3.10/dist-packages/accelerate/utils/megatron_lm.py\u001b[0m in \u001b[0;36m<module>\u001b[0;34m\u001b[0m\n\u001b[1;32m     30\u001b[0m \u001b[0;34m\u001b[0m\u001b[0m\n\u001b[1;32m     31\u001b[0m \u001b[0;32mif\u001b[0m \u001b[0mis_transformers_available\u001b[0m\u001b[0;34m(\u001b[0m\u001b[0;34m)\u001b[0m\u001b[0;34m:\u001b[0m\u001b[0;34m\u001b[0m\u001b[0;34m\u001b[0m\u001b[0m\n\u001b[0;32m---> 32\u001b[0;31m     from transformers.modeling_outputs import (\n\u001b[0m\u001b[1;32m     33\u001b[0m         \u001b[0mCausalLMOutputWithCrossAttentions\u001b[0m\u001b[0;34m,\u001b[0m\u001b[0;34m\u001b[0m\u001b[0;34m\u001b[0m\u001b[0m\n\u001b[1;32m     34\u001b[0m         \u001b[0mSeq2SeqLMOutput\u001b[0m\u001b[0;34m,\u001b[0m\u001b[0;34m\u001b[0m\u001b[0;34m\u001b[0m\u001b[0m\n",
            "\u001b[0;32m/usr/local/lib/python3.10/dist-packages/transformers/__init__.py\u001b[0m in \u001b[0;36m<module>\u001b[0;34m\u001b[0m\n\u001b[1;32m     24\u001b[0m \u001b[0;34m\u001b[0m\u001b[0m\n\u001b[1;32m     25\u001b[0m \u001b[0;31m# Check the dependencies satisfy the minimal versions required.\u001b[0m\u001b[0;34m\u001b[0m\u001b[0;34m\u001b[0m\u001b[0m\n\u001b[0;32m---> 26\u001b[0;31m \u001b[0;32mfrom\u001b[0m \u001b[0;34m.\u001b[0m \u001b[0;32mimport\u001b[0m \u001b[0mdependency_versions_check\u001b[0m\u001b[0;34m\u001b[0m\u001b[0;34m\u001b[0m\u001b[0m\n\u001b[0m\u001b[1;32m     27\u001b[0m from .utils import (\n\u001b[1;32m     28\u001b[0m     \u001b[0mOptionalDependencyNotAvailable\u001b[0m\u001b[0;34m,\u001b[0m\u001b[0;34m\u001b[0m\u001b[0;34m\u001b[0m\u001b[0m\n",
            "\u001b[0;32m/usr/local/lib/python3.10/dist-packages/transformers/dependency_versions_check.py\u001b[0m in \u001b[0;36m<module>\u001b[0;34m\u001b[0m\n\u001b[1;32m     55\u001b[0m                 \u001b[0;32mcontinue\u001b[0m  \u001b[0;31m# not required, check version only if installed\u001b[0m\u001b[0;34m\u001b[0m\u001b[0;34m\u001b[0m\u001b[0m\n\u001b[1;32m     56\u001b[0m \u001b[0;34m\u001b[0m\u001b[0m\n\u001b[0;32m---> 57\u001b[0;31m         \u001b[0mrequire_version_core\u001b[0m\u001b[0;34m(\u001b[0m\u001b[0mdeps\u001b[0m\u001b[0;34m[\u001b[0m\u001b[0mpkg\u001b[0m\u001b[0;34m]\u001b[0m\u001b[0;34m)\u001b[0m\u001b[0;34m\u001b[0m\u001b[0;34m\u001b[0m\u001b[0m\n\u001b[0m\u001b[1;32m     58\u001b[0m     \u001b[0;32melse\u001b[0m\u001b[0;34m:\u001b[0m\u001b[0;34m\u001b[0m\u001b[0;34m\u001b[0m\u001b[0m\n\u001b[1;32m     59\u001b[0m         \u001b[0;32mraise\u001b[0m \u001b[0mValueError\u001b[0m\u001b[0;34m(\u001b[0m\u001b[0;34mf\"can't find {pkg} in {deps.keys()}, check dependency_versions_table.py\"\u001b[0m\u001b[0;34m)\u001b[0m\u001b[0;34m\u001b[0m\u001b[0;34m\u001b[0m\u001b[0m\n",
            "\u001b[0;32m/usr/local/lib/python3.10/dist-packages/transformers/utils/versions.py\u001b[0m in \u001b[0;36mrequire_version_core\u001b[0;34m(requirement)\u001b[0m\n\u001b[1;32m    115\u001b[0m     \u001b[0;34m\"\"\"require_version wrapper which emits a core-specific hint on failure\"\"\"\u001b[0m\u001b[0;34m\u001b[0m\u001b[0;34m\u001b[0m\u001b[0m\n\u001b[1;32m    116\u001b[0m     \u001b[0mhint\u001b[0m \u001b[0;34m=\u001b[0m \u001b[0;34m\"Try: `pip install transformers -U` or `pip install -e '.[dev]'` if you're working with git main\"\u001b[0m\u001b[0;34m\u001b[0m\u001b[0;34m\u001b[0m\u001b[0m\n\u001b[0;32m--> 117\u001b[0;31m     \u001b[0;32mreturn\u001b[0m \u001b[0mrequire_version\u001b[0m\u001b[0;34m(\u001b[0m\u001b[0mrequirement\u001b[0m\u001b[0;34m,\u001b[0m \u001b[0mhint\u001b[0m\u001b[0;34m)\u001b[0m\u001b[0;34m\u001b[0m\u001b[0;34m\u001b[0m\u001b[0m\n\u001b[0m",
            "\u001b[0;32m/usr/local/lib/python3.10/dist-packages/transformers/utils/versions.py\u001b[0m in \u001b[0;36mrequire_version\u001b[0;34m(requirement, hint)\u001b[0m\n\u001b[1;32m    109\u001b[0m     \u001b[0;32mif\u001b[0m \u001b[0mwant_ver\u001b[0m \u001b[0;32mis\u001b[0m \u001b[0;32mnot\u001b[0m \u001b[0;32mNone\u001b[0m\u001b[0;34m:\u001b[0m\u001b[0;34m\u001b[0m\u001b[0;34m\u001b[0m\u001b[0m\n\u001b[1;32m    110\u001b[0m         \u001b[0;32mfor\u001b[0m \u001b[0mop\u001b[0m\u001b[0;34m,\u001b[0m \u001b[0mwant_ver\u001b[0m \u001b[0;32min\u001b[0m \u001b[0mwanted\u001b[0m\u001b[0;34m.\u001b[0m\u001b[0mitems\u001b[0m\u001b[0;34m(\u001b[0m\u001b[0;34m)\u001b[0m\u001b[0;34m:\u001b[0m\u001b[0;34m\u001b[0m\u001b[0;34m\u001b[0m\u001b[0m\n\u001b[0;32m--> 111\u001b[0;31m             \u001b[0m_compare_versions\u001b[0m\u001b[0;34m(\u001b[0m\u001b[0mop\u001b[0m\u001b[0;34m,\u001b[0m \u001b[0mgot_ver\u001b[0m\u001b[0;34m,\u001b[0m \u001b[0mwant_ver\u001b[0m\u001b[0;34m,\u001b[0m \u001b[0mrequirement\u001b[0m\u001b[0;34m,\u001b[0m \u001b[0mpkg\u001b[0m\u001b[0;34m,\u001b[0m \u001b[0mhint\u001b[0m\u001b[0;34m)\u001b[0m\u001b[0;34m\u001b[0m\u001b[0;34m\u001b[0m\u001b[0m\n\u001b[0m\u001b[1;32m    112\u001b[0m \u001b[0;34m\u001b[0m\u001b[0m\n\u001b[1;32m    113\u001b[0m \u001b[0;34m\u001b[0m\u001b[0m\n",
            "\u001b[0;32m/usr/local/lib/python3.10/dist-packages/transformers/utils/versions.py\u001b[0m in \u001b[0;36m_compare_versions\u001b[0;34m(op, got_ver, want_ver, requirement, pkg, hint)\u001b[0m\n\u001b[1;32m     42\u001b[0m         )\n\u001b[1;32m     43\u001b[0m     \u001b[0;32mif\u001b[0m \u001b[0;32mnot\u001b[0m \u001b[0mops\u001b[0m\u001b[0;34m[\u001b[0m\u001b[0mop\u001b[0m\u001b[0;34m]\u001b[0m\u001b[0;34m(\u001b[0m\u001b[0mversion\u001b[0m\u001b[0;34m.\u001b[0m\u001b[0mparse\u001b[0m\u001b[0;34m(\u001b[0m\u001b[0mgot_ver\u001b[0m\u001b[0;34m)\u001b[0m\u001b[0;34m,\u001b[0m \u001b[0mversion\u001b[0m\u001b[0;34m.\u001b[0m\u001b[0mparse\u001b[0m\u001b[0;34m(\u001b[0m\u001b[0mwant_ver\u001b[0m\u001b[0;34m)\u001b[0m\u001b[0;34m)\u001b[0m\u001b[0;34m:\u001b[0m\u001b[0;34m\u001b[0m\u001b[0;34m\u001b[0m\u001b[0m\n\u001b[0;32m---> 44\u001b[0;31m         raise ImportError(\n\u001b[0m\u001b[1;32m     45\u001b[0m             \u001b[0;34mf\"{requirement} is required for a normal functioning of this module, but found {pkg}=={got_ver}.{hint}\"\u001b[0m\u001b[0;34m\u001b[0m\u001b[0;34m\u001b[0m\u001b[0m\n\u001b[1;32m     46\u001b[0m         )\n",
            "\u001b[0;31mImportError\u001b[0m: tokenizers>=0.14,<0.19 is required for a normal functioning of this module, but found tokenizers==0.19.1.\nTry: pip install transformers -U or pip install -e '.[dev]' if you're working with git main",
            "",
            "\u001b[0;31m---------------------------------------------------------------------------\u001b[0;32m\nNOTE: If your import is failing due to a missing package, you can\nmanually install dependencies using either !pip or !apt.\n\nTo view examples of installing some common dependencies, click the\n\"Open Examples\" button below.\n\u001b[0;31m---------------------------------------------------------------------------\u001b[0m\n"
          ],
          "errorDetails": {
            "actions": [
              {
                "action": "open_url",
                "actionText": "Open Examples",
                "url": "/notebooks/snippets/importing_libraries.ipynb"
              }
            ]
          }
        }
      ]
    },
    {
      "cell_type": "code",
      "source": [
        "!unzip data.zip"
      ],
      "metadata": {
        "id": "QETeqnKUa6r1"
      },
      "execution_count": null,
      "outputs": []
    },
    {
      "cell_type": "code",
      "source": [
        "!pip install clip-retrieval\n",
        "!python retrieve.py --class_prompt cat --class_data_dir real_reg/samples_cat --num_class_images 200"
      ],
      "metadata": {
        "colab": {
          "base_uri": "https://localhost:8080/"
        },
        "id": "A8xnxbWUaFRa",
        "outputId": "65f80daf-ecc4-44cd-8a4d-dc9904abcfdf"
      },
      "execution_count": null,
      "outputs": [
        {
          "output_type": "stream",
          "name": "stdout",
          "text": [
            "Collecting clip-retrieval\n",
            "  Using cached clip_retrieval-2.44.0-py3-none-any.whl (343 kB)\n",
            "Collecting img2dataset<2,>=1.25.5 (from clip-retrieval)\n",
            "  Using cached img2dataset-1.45.0-py3-none-any.whl (42 kB)\n",
            "Collecting clip-anytorch<3,>=2.5.0 (from clip-retrieval)\n",
            "  Using cached clip_anytorch-2.6.0-py3-none-any.whl (1.4 MB)\n",
            "Requirement already satisfied: tqdm<5,>=4.62.3 in /usr/local/lib/python3.10/dist-packages (from clip-retrieval) (4.66.1)\n",
            "Requirement already satisfied: fire<0.6.0,>=0.4.0 in /usr/local/lib/python3.10/dist-packages (from clip-retrieval) (0.5.0)\n",
            "Requirement already satisfied: torch<3,>=1.7.1 in /usr/local/lib/python3.10/dist-packages (from clip-retrieval) (2.1.0+cu121)\n",
            "Requirement already satisfied: torchvision<2,>=0.10.1 in /usr/local/lib/python3.10/dist-packages (from clip-retrieval) (0.16.0+cu121)\n",
            "Requirement already satisfied: numpy<2,>=1.19.5 in /usr/local/lib/python3.10/dist-packages (from clip-retrieval) (1.23.5)\n",
            "Requirement already satisfied: faiss-cpu<2,>=1.7.2 in /usr/local/lib/python3.10/dist-packages (from clip-retrieval) (1.8.0)\n",
            "Collecting flask<4,>=3.0.0 (from clip-retrieval)\n",
            "  Using cached flask-3.0.3-py3-none-any.whl (101 kB)\n",
            "Collecting flask-restful<1,>=0.3.9 (from clip-retrieval)\n",
            "  Using cached Flask_RESTful-0.3.10-py2.py3-none-any.whl (26 kB)\n",
            "Collecting flask-cors<5,>=4.0.0 (from clip-retrieval)\n",
            "  Using cached Flask_Cors-4.0.0-py2.py3-none-any.whl (14 kB)\n",
            "Requirement already satisfied: pandas<3,>=1.1.5 in /usr/local/lib/python3.10/dist-packages (from clip-retrieval) (1.5.3)\n",
            "Requirement already satisfied: pyarrow<15,>=6.0.1 in /usr/local/lib/python3.10/dist-packages (from clip-retrieval) (10.0.1)\n",
            "Collecting autofaiss<3,>=2.9.6 (from clip-retrieval)\n",
            "  Using cached autofaiss-2.17.0-py3-none-any.whl (70 kB)\n",
            "Requirement already satisfied: webdataset<0.3,>=0.2 in /usr/local/lib/python3.10/dist-packages (from clip-retrieval) (0.2.86)\n",
            "Requirement already satisfied: h5py<4,>=3.1.0 in /usr/local/lib/python3.10/dist-packages (from clip-retrieval) (3.9.0)\n",
            "Requirement already satisfied: prometheus-client<1,>=0.13.1 in /usr/local/lib/python3.10/dist-packages (from clip-retrieval) (0.19.0)\n",
            "Requirement already satisfied: fsspec in /usr/local/lib/python3.10/dist-packages (from clip-retrieval) (2023.6.0)\n",
            "Collecting sentence-transformers<3,>=2.2.0 (from clip-retrieval)\n",
            "  Using cached sentence_transformers-2.7.0-py3-none-any.whl (171 kB)\n",
            "Collecting wandb<0.17,>=0.12.0 (from clip-retrieval)\n",
            "  Using cached wandb-0.16.6-py3-none-any.whl (2.2 MB)\n",
            "Collecting open-clip-torch<3.0.0,>=2.0.0 (from clip-retrieval)\n",
            "  Using cached open_clip_torch-2.24.0-py3-none-any.whl (1.5 MB)\n",
            "Requirement already satisfied: requests<3,>=2.27.1 in /usr/local/lib/python3.10/dist-packages (from clip-retrieval) (2.31.0)\n",
            "Requirement already satisfied: aiohttp<4,>=3.8.1 in /usr/local/lib/python3.10/dist-packages (from clip-retrieval) (3.9.3)\n",
            "Collecting multilingual-clip<2,>=1.0.10 (from clip-retrieval)\n",
            "  Using cached multilingual_clip-1.0.10-py3-none-any.whl (20 kB)\n",
            "Requirement already satisfied: transformers in /usr/local/lib/python3.10/dist-packages (from clip-retrieval) (4.40.1)\n",
            "Requirement already satisfied: urllib3<2 in /usr/local/lib/python3.10/dist-packages (from clip-retrieval) (1.26.18)\n",
            "Requirement already satisfied: scipy<1.12 in /usr/local/lib/python3.10/dist-packages (from clip-retrieval) (1.11.4)\n",
            "Collecting all-clip<2 (from clip-retrieval)\n",
            "  Using cached all_clip-1.2.0-py3-none-any.whl (10 kB)\n",
            "Requirement already satisfied: aiosignal>=1.1.2 in /usr/local/lib/python3.10/dist-packages (from aiohttp<4,>=3.8.1->clip-retrieval) (1.3.1)\n",
            "Requirement already satisfied: attrs>=17.3.0 in /usr/local/lib/python3.10/dist-packages (from aiohttp<4,>=3.8.1->clip-retrieval) (23.2.0)\n",
            "Requirement already satisfied: frozenlist>=1.1.1 in /usr/local/lib/python3.10/dist-packages (from aiohttp<4,>=3.8.1->clip-retrieval) (1.4.1)\n",
            "Requirement already satisfied: multidict<7.0,>=4.5 in /usr/local/lib/python3.10/dist-packages (from aiohttp<4,>=3.8.1->clip-retrieval) (6.0.5)\n",
            "Requirement already satisfied: yarl<2.0,>=1.0 in /usr/local/lib/python3.10/dist-packages (from aiohttp<4,>=3.8.1->clip-retrieval) (1.9.4)\n",
            "Requirement already satisfied: async-timeout<5.0,>=4.0 in /usr/local/lib/python3.10/dist-packages (from aiohttp<4,>=3.8.1->clip-retrieval) (4.0.3)\n",
            "Collecting embedding-reader<2,>=1.5.1 (from autofaiss<3,>=2.9.6->clip-retrieval)\n",
            "  Using cached embedding_reader-1.7.0-py3-none-any.whl (18 kB)\n",
            "Requirement already satisfied: ftfy in /usr/local/lib/python3.10/dist-packages (from clip-anytorch<3,>=2.5.0->clip-retrieval) (6.2.0)\n",
            "Requirement already satisfied: regex in /usr/local/lib/python3.10/dist-packages (from clip-anytorch<3,>=2.5.0->clip-retrieval) (2023.12.25)\n",
            "Requirement already satisfied: six in /usr/local/lib/python3.10/dist-packages (from fire<0.6.0,>=0.4.0->clip-retrieval) (1.16.0)\n",
            "Requirement already satisfied: termcolor in /usr/local/lib/python3.10/dist-packages (from fire<0.6.0,>=0.4.0->clip-retrieval) (2.4.0)\n",
            "Requirement already satisfied: Werkzeug>=3.0.0 in /usr/local/lib/python3.10/dist-packages (from flask<4,>=3.0.0->clip-retrieval) (3.0.1)\n",
            "Requirement already satisfied: Jinja2>=3.1.2 in /usr/local/lib/python3.10/dist-packages (from flask<4,>=3.0.0->clip-retrieval) (3.1.3)\n",
            "Requirement already satisfied: itsdangerous>=2.1.2 in /usr/local/lib/python3.10/dist-packages (from flask<4,>=3.0.0->clip-retrieval) (2.1.2)\n",
            "Requirement already satisfied: click>=8.1.3 in /usr/local/lib/python3.10/dist-packages (from flask<4,>=3.0.0->clip-retrieval) (8.1.7)\n",
            "Collecting blinker>=1.6.2 (from flask<4,>=3.0.0->clip-retrieval)\n",
            "  Using cached blinker-1.7.0-py3-none-any.whl (13 kB)\n",
            "Requirement already satisfied: aniso8601>=0.82 in /usr/local/lib/python3.10/dist-packages (from flask-restful<1,>=0.3.9->clip-retrieval) (9.0.1)\n",
            "Requirement already satisfied: pytz in /usr/local/lib/python3.10/dist-packages (from flask-restful<1,>=0.3.9->clip-retrieval) (2023.4)\n",
            "Requirement already satisfied: opencv-python-headless<5,>=4.5.5.62 in /usr/local/lib/python3.10/dist-packages (from img2dataset<2,>=1.25.5->clip-retrieval) (4.9.0.80)\n",
            "Requirement already satisfied: exifread-nocycle<4,>=3.0.1 in /usr/local/lib/python3.10/dist-packages (from img2dataset<2,>=1.25.5->clip-retrieval) (3.0.1)\n",
            "Requirement already satisfied: albumentations<2,>=1.1.0 in /usr/local/lib/python3.10/dist-packages (from img2dataset<2,>=1.25.5->clip-retrieval) (1.3.1)\n",
            "Requirement already satisfied: dataclasses<1.0.0,>=0.6 in /usr/local/lib/python3.10/dist-packages (from img2dataset<2,>=1.25.5->clip-retrieval) (0.6)\n",
            "Requirement already satisfied: huggingface-hub in /usr/local/lib/python3.10/dist-packages (from open-clip-torch<3.0.0,>=2.0.0->clip-retrieval) (0.20.3)\n",
            "Requirement already satisfied: sentencepiece in /usr/local/lib/python3.10/dist-packages (from open-clip-torch<3.0.0,>=2.0.0->clip-retrieval) (0.1.99)\n",
            "Requirement already satisfied: protobuf in /usr/local/lib/python3.10/dist-packages (from open-clip-torch<3.0.0,>=2.0.0->clip-retrieval) (3.20.3)\n",
            "Collecting timm (from open-clip-torch<3.0.0,>=2.0.0->clip-retrieval)\n",
            "  Using cached timm-0.9.16-py3-none-any.whl (2.2 MB)\n",
            "Requirement already satisfied: python-dateutil>=2.8.1 in /usr/local/lib/python3.10/dist-packages (from pandas<3,>=1.1.5->clip-retrieval) (2.8.2)\n",
            "Requirement already satisfied: charset-normalizer<4,>=2 in /usr/local/lib/python3.10/dist-packages (from requests<3,>=2.27.1->clip-retrieval) (3.3.2)\n",
            "Requirement already satisfied: idna<4,>=2.5 in /usr/local/lib/python3.10/dist-packages (from requests<3,>=2.27.1->clip-retrieval) (3.6)\n",
            "Requirement already satisfied: certifi>=2017.4.17 in /usr/local/lib/python3.10/dist-packages (from requests<3,>=2.27.1->clip-retrieval) (2024.2.2)\n",
            "Requirement already satisfied: scikit-learn in /usr/local/lib/python3.10/dist-packages (from sentence-transformers<3,>=2.2.0->clip-retrieval) (1.2.2)\n",
            "Requirement already satisfied: Pillow in /usr/local/lib/python3.10/dist-packages (from sentence-transformers<3,>=2.2.0->clip-retrieval) (9.4.0)\n",
            "Requirement already satisfied: filelock in /usr/local/lib/python3.10/dist-packages (from torch<3,>=1.7.1->clip-retrieval) (3.13.1)\n",
            "Requirement already satisfied: typing-extensions in /usr/local/lib/python3.10/dist-packages (from torch<3,>=1.7.1->clip-retrieval) (4.11.0)\n",
            "Requirement already satisfied: sympy in /usr/local/lib/python3.10/dist-packages (from torch<3,>=1.7.1->clip-retrieval) (1.12)\n",
            "Requirement already satisfied: networkx in /usr/local/lib/python3.10/dist-packages (from torch<3,>=1.7.1->clip-retrieval) (3.2.1)\n",
            "Requirement already satisfied: triton==2.1.0 in /usr/local/lib/python3.10/dist-packages (from torch<3,>=1.7.1->clip-retrieval) (2.1.0)\n",
            "Requirement already satisfied: packaging>=20.0 in /usr/local/lib/python3.10/dist-packages (from transformers->clip-retrieval) (23.2)\n",
            "Requirement already satisfied: pyyaml>=5.1 in /usr/local/lib/python3.10/dist-packages (from transformers->clip-retrieval) (6.0.1)\n",
            "Requirement already satisfied: tokenizers<0.20,>=0.19 in /usr/local/lib/python3.10/dist-packages (from transformers->clip-retrieval) (0.19.1)\n",
            "Requirement already satisfied: safetensors>=0.4.1 in /usr/local/lib/python3.10/dist-packages (from transformers->clip-retrieval) (0.4.2)\n",
            "Collecting GitPython!=3.1.29,>=1.0.0 (from wandb<0.17,>=0.12.0->clip-retrieval)\n",
            "  Using cached GitPython-3.1.43-py3-none-any.whl (207 kB)\n",
            "Requirement already satisfied: psutil>=5.0.0 in /usr/local/lib/python3.10/dist-packages (from wandb<0.17,>=0.12.0->clip-retrieval) (5.9.5)\n",
            "Requirement already satisfied: sentry-sdk>=1.0.0 in /usr/local/lib/python3.10/dist-packages (from wandb<0.17,>=0.12.0->clip-retrieval) (1.45.0)\n",
            "Requirement already satisfied: docker-pycreds>=0.4.0 in /usr/local/lib/python3.10/dist-packages (from wandb<0.17,>=0.12.0->clip-retrieval) (0.4.0)\n",
            "Requirement already satisfied: setproctitle in /usr/local/lib/python3.10/dist-packages (from wandb<0.17,>=0.12.0->clip-retrieval) (1.3.3)\n",
            "Requirement already satisfied: setuptools in /usr/local/lib/python3.10/dist-packages (from wandb<0.17,>=0.12.0->clip-retrieval) (67.7.2)\n",
            "Requirement already satisfied: appdirs>=1.4.3 in /usr/local/lib/python3.10/dist-packages (from wandb<0.17,>=0.12.0->clip-retrieval) (1.4.4)\n",
            "Requirement already satisfied: braceexpand in /usr/local/lib/python3.10/dist-packages (from webdataset<0.3,>=0.2->clip-retrieval) (0.1.7)\n",
            "Requirement already satisfied: scikit-image>=0.16.1 in /usr/local/lib/python3.10/dist-packages (from albumentations<2,>=1.1.0->img2dataset<2,>=1.25.5->clip-retrieval) (0.19.3)\n",
            "Requirement already satisfied: qudida>=0.0.4 in /usr/local/lib/python3.10/dist-packages (from albumentations<2,>=1.1.0->img2dataset<2,>=1.25.5->clip-retrieval) (0.0.4)\n",
            "Requirement already satisfied: gitdb<5,>=4.0.1 in /usr/local/lib/python3.10/dist-packages (from GitPython!=3.1.29,>=1.0.0->wandb<0.17,>=0.12.0->clip-retrieval) (4.0.11)\n",
            "Requirement already satisfied: MarkupSafe>=2.0 in /usr/local/lib/python3.10/dist-packages (from Jinja2>=3.1.2->flask<4,>=3.0.0->clip-retrieval) (2.1.5)\n",
            "Requirement already satisfied: wcwidth<0.3.0,>=0.2.12 in /usr/local/lib/python3.10/dist-packages (from ftfy->clip-anytorch<3,>=2.5.0->clip-retrieval) (0.2.13)\n",
            "Requirement already satisfied: joblib>=1.1.1 in /usr/local/lib/python3.10/dist-packages (from scikit-learn->sentence-transformers<3,>=2.2.0->clip-retrieval) (1.3.2)\n",
            "Requirement already satisfied: threadpoolctl>=2.0.0 in /usr/local/lib/python3.10/dist-packages (from scikit-learn->sentence-transformers<3,>=2.2.0->clip-retrieval) (3.2.0)\n",
            "Requirement already satisfied: mpmath>=0.19 in /usr/local/lib/python3.10/dist-packages (from sympy->torch<3,>=1.7.1->clip-retrieval) (1.3.0)\n",
            "Requirement already satisfied: smmap<6,>=3.0.1 in /usr/local/lib/python3.10/dist-packages (from gitdb<5,>=4.0.1->GitPython!=3.1.29,>=1.0.0->wandb<0.17,>=0.12.0->clip-retrieval) (5.0.1)\n",
            "Requirement already satisfied: imageio>=2.4.1 in /usr/local/lib/python3.10/dist-packages (from scikit-image>=0.16.1->albumentations<2,>=1.1.0->img2dataset<2,>=1.25.5->clip-retrieval) (2.31.6)\n",
            "Requirement already satisfied: tifffile>=2019.7.26 in /usr/local/lib/python3.10/dist-packages (from scikit-image>=0.16.1->albumentations<2,>=1.1.0->img2dataset<2,>=1.25.5->clip-retrieval) (2024.1.30)\n",
            "Requirement already satisfied: PyWavelets>=1.1.1 in /usr/local/lib/python3.10/dist-packages (from scikit-image>=0.16.1->albumentations<2,>=1.1.0->img2dataset<2,>=1.25.5->clip-retrieval) (1.5.0)\n",
            "Installing collected packages: blinker, GitPython, flask, wandb, flask-restful, flask-cors, embedding-reader, timm, clip-anytorch, autofaiss, sentence-transformers, open-clip-torch, multilingual-clip, img2dataset, all-clip, clip-retrieval\n",
            "  Attempting uninstall: blinker\n",
            "    Found existing installation: blinker 1.4\n",
            "\u001b[31mERROR: Cannot uninstall 'blinker'. It is a distutils installed project and thus we cannot accurately determine which files belong to it which would lead to only a partial uninstall.\u001b[0m\u001b[31m\n",
            "\u001b[0mTraceback (most recent call last):\n",
            "  File \"/content/diffusers/examples/custom_diffusion/retrieve.py\", line 20, in <module>\n",
            "    from clip_retrieval.clip_client import ClipClient\n",
            "ModuleNotFoundError: No module named 'clip_retrieval'\n"
          ]
        }
      ]
    },
    {
      "cell_type": "code",
      "source": [
        "!pip install clip-retrieval"
      ],
      "metadata": {
        "colab": {
          "base_uri": "https://localhost:8080/"
        },
        "id": "N2P_pmQZeGgQ",
        "outputId": "8e6b7925-2376-47d5-983f-a3cdf8f76192"
      },
      "execution_count": null,
      "outputs": [
        {
          "output_type": "stream",
          "name": "stdout",
          "text": [
            "Collecting clip-retrieval\n",
            "  Using cached clip_retrieval-2.44.0-py3-none-any.whl (343 kB)\n",
            "Collecting img2dataset<2,>=1.25.5 (from clip-retrieval)\n",
            "  Using cached img2dataset-1.45.0-py3-none-any.whl (42 kB)\n",
            "Collecting clip-anytorch<3,>=2.5.0 (from clip-retrieval)\n",
            "  Using cached clip_anytorch-2.6.0-py3-none-any.whl (1.4 MB)\n",
            "Requirement already satisfied: tqdm<5,>=4.62.3 in /usr/local/lib/python3.10/dist-packages (from clip-retrieval) (4.66.1)\n",
            "Requirement already satisfied: fire<0.6.0,>=0.4.0 in /usr/local/lib/python3.10/dist-packages (from clip-retrieval) (0.5.0)\n",
            "Requirement already satisfied: torch<3,>=1.7.1 in /usr/local/lib/python3.10/dist-packages (from clip-retrieval) (2.1.0+cu121)\n",
            "Requirement already satisfied: torchvision<2,>=0.10.1 in /usr/local/lib/python3.10/dist-packages (from clip-retrieval) (0.16.0+cu121)\n",
            "Requirement already satisfied: numpy<2,>=1.19.5 in /usr/local/lib/python3.10/dist-packages (from clip-retrieval) (1.23.5)\n",
            "Requirement already satisfied: faiss-cpu<2,>=1.7.2 in /usr/local/lib/python3.10/dist-packages (from clip-retrieval) (1.8.0)\n",
            "Collecting flask<4,>=3.0.0 (from clip-retrieval)\n",
            "  Using cached flask-3.0.3-py3-none-any.whl (101 kB)\n",
            "Collecting flask-restful<1,>=0.3.9 (from clip-retrieval)\n",
            "  Using cached Flask_RESTful-0.3.10-py2.py3-none-any.whl (26 kB)\n",
            "Collecting flask-cors<5,>=4.0.0 (from clip-retrieval)\n",
            "  Using cached Flask_Cors-4.0.0-py2.py3-none-any.whl (14 kB)\n",
            "Requirement already satisfied: pandas<3,>=1.1.5 in /usr/local/lib/python3.10/dist-packages (from clip-retrieval) (1.5.3)\n",
            "Requirement already satisfied: pyarrow<15,>=6.0.1 in /usr/local/lib/python3.10/dist-packages (from clip-retrieval) (10.0.1)\n",
            "Collecting autofaiss<3,>=2.9.6 (from clip-retrieval)\n",
            "  Using cached autofaiss-2.17.0-py3-none-any.whl (70 kB)\n",
            "Requirement already satisfied: webdataset<0.3,>=0.2 in /usr/local/lib/python3.10/dist-packages (from clip-retrieval) (0.2.86)\n",
            "Requirement already satisfied: h5py<4,>=3.1.0 in /usr/local/lib/python3.10/dist-packages (from clip-retrieval) (3.9.0)\n",
            "Requirement already satisfied: prometheus-client<1,>=0.13.1 in /usr/local/lib/python3.10/dist-packages (from clip-retrieval) (0.19.0)\n",
            "Requirement already satisfied: fsspec in /usr/local/lib/python3.10/dist-packages (from clip-retrieval) (2023.6.0)\n",
            "Collecting sentence-transformers<3,>=2.2.0 (from clip-retrieval)\n",
            "  Using cached sentence_transformers-2.7.0-py3-none-any.whl (171 kB)\n",
            "Collecting wandb<0.17,>=0.12.0 (from clip-retrieval)\n",
            "  Using cached wandb-0.16.6-py3-none-any.whl (2.2 MB)\n",
            "Collecting open-clip-torch<3.0.0,>=2.0.0 (from clip-retrieval)\n",
            "  Using cached open_clip_torch-2.24.0-py3-none-any.whl (1.5 MB)\n",
            "Requirement already satisfied: requests<3,>=2.27.1 in /usr/local/lib/python3.10/dist-packages (from clip-retrieval) (2.31.0)\n",
            "Requirement already satisfied: aiohttp<4,>=3.8.1 in /usr/local/lib/python3.10/dist-packages (from clip-retrieval) (3.9.3)\n",
            "Collecting multilingual-clip<2,>=1.0.10 (from clip-retrieval)\n",
            "  Using cached multilingual_clip-1.0.10-py3-none-any.whl (20 kB)\n",
            "Requirement already satisfied: transformers in /usr/local/lib/python3.10/dist-packages (from clip-retrieval) (4.35.2)\n",
            "Requirement already satisfied: urllib3<2 in /usr/local/lib/python3.10/dist-packages (from clip-retrieval) (1.26.18)\n",
            "Requirement already satisfied: scipy<1.12 in /usr/local/lib/python3.10/dist-packages (from clip-retrieval) (1.11.4)\n",
            "Collecting all-clip<2 (from clip-retrieval)\n",
            "  Using cached all_clip-1.2.0-py3-none-any.whl (10 kB)\n",
            "Requirement already satisfied: aiosignal>=1.1.2 in /usr/local/lib/python3.10/dist-packages (from aiohttp<4,>=3.8.1->clip-retrieval) (1.3.1)\n",
            "Requirement already satisfied: attrs>=17.3.0 in /usr/local/lib/python3.10/dist-packages (from aiohttp<4,>=3.8.1->clip-retrieval) (23.2.0)\n",
            "Requirement already satisfied: frozenlist>=1.1.1 in /usr/local/lib/python3.10/dist-packages (from aiohttp<4,>=3.8.1->clip-retrieval) (1.4.1)\n",
            "Requirement already satisfied: multidict<7.0,>=4.5 in /usr/local/lib/python3.10/dist-packages (from aiohttp<4,>=3.8.1->clip-retrieval) (6.0.5)\n",
            "Requirement already satisfied: yarl<2.0,>=1.0 in /usr/local/lib/python3.10/dist-packages (from aiohttp<4,>=3.8.1->clip-retrieval) (1.9.4)\n",
            "Requirement already satisfied: async-timeout<5.0,>=4.0 in /usr/local/lib/python3.10/dist-packages (from aiohttp<4,>=3.8.1->clip-retrieval) (4.0.3)\n",
            "Collecting embedding-reader<2,>=1.5.1 (from autofaiss<3,>=2.9.6->clip-retrieval)\n",
            "  Using cached embedding_reader-1.7.0-py3-none-any.whl (18 kB)\n",
            "Requirement already satisfied: ftfy in /usr/local/lib/python3.10/dist-packages (from clip-anytorch<3,>=2.5.0->clip-retrieval) (6.2.0)\n",
            "Requirement already satisfied: regex in /usr/local/lib/python3.10/dist-packages (from clip-anytorch<3,>=2.5.0->clip-retrieval) (2023.12.25)\n",
            "Requirement already satisfied: six in /usr/local/lib/python3.10/dist-packages (from fire<0.6.0,>=0.4.0->clip-retrieval) (1.16.0)\n",
            "Requirement already satisfied: termcolor in /usr/local/lib/python3.10/dist-packages (from fire<0.6.0,>=0.4.0->clip-retrieval) (2.4.0)\n",
            "Requirement already satisfied: Werkzeug>=3.0.0 in /usr/local/lib/python3.10/dist-packages (from flask<4,>=3.0.0->clip-retrieval) (3.0.1)\n",
            "Requirement already satisfied: Jinja2>=3.1.2 in /usr/local/lib/python3.10/dist-packages (from flask<4,>=3.0.0->clip-retrieval) (3.1.3)\n",
            "Requirement already satisfied: itsdangerous>=2.1.2 in /usr/local/lib/python3.10/dist-packages (from flask<4,>=3.0.0->clip-retrieval) (2.1.2)\n",
            "Requirement already satisfied: click>=8.1.3 in /usr/local/lib/python3.10/dist-packages (from flask<4,>=3.0.0->clip-retrieval) (8.1.7)\n",
            "Collecting blinker>=1.6.2 (from flask<4,>=3.0.0->clip-retrieval)\n",
            "  Using cached blinker-1.7.0-py3-none-any.whl (13 kB)\n",
            "Requirement already satisfied: aniso8601>=0.82 in /usr/local/lib/python3.10/dist-packages (from flask-restful<1,>=0.3.9->clip-retrieval) (9.0.1)\n",
            "Requirement already satisfied: pytz in /usr/local/lib/python3.10/dist-packages (from flask-restful<1,>=0.3.9->clip-retrieval) (2023.4)\n",
            "Requirement already satisfied: opencv-python-headless<5,>=4.5.5.62 in /usr/local/lib/python3.10/dist-packages (from img2dataset<2,>=1.25.5->clip-retrieval) (4.9.0.80)\n",
            "Requirement already satisfied: exifread-nocycle<4,>=3.0.1 in /usr/local/lib/python3.10/dist-packages (from img2dataset<2,>=1.25.5->clip-retrieval) (3.0.1)\n",
            "Requirement already satisfied: albumentations<2,>=1.1.0 in /usr/local/lib/python3.10/dist-packages (from img2dataset<2,>=1.25.5->clip-retrieval) (1.3.1)\n",
            "Requirement already satisfied: dataclasses<1.0.0,>=0.6 in /usr/local/lib/python3.10/dist-packages (from img2dataset<2,>=1.25.5->clip-retrieval) (0.6)\n",
            "Requirement already satisfied: huggingface-hub in /usr/local/lib/python3.10/dist-packages (from open-clip-torch<3.0.0,>=2.0.0->clip-retrieval) (0.20.3)\n",
            "Requirement already satisfied: sentencepiece in /usr/local/lib/python3.10/dist-packages (from open-clip-torch<3.0.0,>=2.0.0->clip-retrieval) (0.1.99)\n",
            "Requirement already satisfied: protobuf in /usr/local/lib/python3.10/dist-packages (from open-clip-torch<3.0.0,>=2.0.0->clip-retrieval) (3.20.3)\n",
            "Collecting timm (from open-clip-torch<3.0.0,>=2.0.0->clip-retrieval)\n",
            "  Using cached timm-0.9.16-py3-none-any.whl (2.2 MB)\n",
            "Requirement already satisfied: python-dateutil>=2.8.1 in /usr/local/lib/python3.10/dist-packages (from pandas<3,>=1.1.5->clip-retrieval) (2.8.2)\n",
            "Requirement already satisfied: charset-normalizer<4,>=2 in /usr/local/lib/python3.10/dist-packages (from requests<3,>=2.27.1->clip-retrieval) (3.3.2)\n",
            "Requirement already satisfied: idna<4,>=2.5 in /usr/local/lib/python3.10/dist-packages (from requests<3,>=2.27.1->clip-retrieval) (3.6)\n",
            "Requirement already satisfied: certifi>=2017.4.17 in /usr/local/lib/python3.10/dist-packages (from requests<3,>=2.27.1->clip-retrieval) (2024.2.2)\n",
            "Requirement already satisfied: scikit-learn in /usr/local/lib/python3.10/dist-packages (from sentence-transformers<3,>=2.2.0->clip-retrieval) (1.2.2)\n",
            "Requirement already satisfied: Pillow in /usr/local/lib/python3.10/dist-packages (from sentence-transformers<3,>=2.2.0->clip-retrieval) (9.4.0)\n",
            "Requirement already satisfied: filelock in /usr/local/lib/python3.10/dist-packages (from torch<3,>=1.7.1->clip-retrieval) (3.13.1)\n",
            "Requirement already satisfied: typing-extensions in /usr/local/lib/python3.10/dist-packages (from torch<3,>=1.7.1->clip-retrieval) (4.9.0)\n",
            "Requirement already satisfied: sympy in /usr/local/lib/python3.10/dist-packages (from torch<3,>=1.7.1->clip-retrieval) (1.12)\n",
            "Requirement already satisfied: networkx in /usr/local/lib/python3.10/dist-packages (from torch<3,>=1.7.1->clip-retrieval) (3.2.1)\n",
            "Requirement already satisfied: triton==2.1.0 in /usr/local/lib/python3.10/dist-packages (from torch<3,>=1.7.1->clip-retrieval) (2.1.0)\n",
            "Requirement already satisfied: packaging>=20.0 in /usr/local/lib/python3.10/dist-packages (from transformers->clip-retrieval) (23.2)\n",
            "Requirement already satisfied: pyyaml>=5.1 in /usr/local/lib/python3.10/dist-packages (from transformers->clip-retrieval) (6.0.1)\n",
            "Requirement already satisfied: tokenizers<0.19,>=0.14 in /usr/local/lib/python3.10/dist-packages (from transformers->clip-retrieval) (0.15.1)\n",
            "Requirement already satisfied: safetensors>=0.3.1 in /usr/local/lib/python3.10/dist-packages (from transformers->clip-retrieval) (0.4.2)\n",
            "Collecting GitPython!=3.1.29,>=1.0.0 (from wandb<0.17,>=0.12.0->clip-retrieval)\n",
            "  Using cached GitPython-3.1.43-py3-none-any.whl (207 kB)\n",
            "Requirement already satisfied: psutil>=5.0.0 in /usr/local/lib/python3.10/dist-packages (from wandb<0.17,>=0.12.0->clip-retrieval) (5.9.5)\n",
            "Requirement already satisfied: sentry-sdk>=1.0.0 in /usr/local/lib/python3.10/dist-packages (from wandb<0.17,>=0.12.0->clip-retrieval) (1.45.0)\n",
            "Requirement already satisfied: docker-pycreds>=0.4.0 in /usr/local/lib/python3.10/dist-packages (from wandb<0.17,>=0.12.0->clip-retrieval) (0.4.0)\n",
            "Requirement already satisfied: setproctitle in /usr/local/lib/python3.10/dist-packages (from wandb<0.17,>=0.12.0->clip-retrieval) (1.3.3)\n",
            "Requirement already satisfied: setuptools in /usr/local/lib/python3.10/dist-packages (from wandb<0.17,>=0.12.0->clip-retrieval) (67.7.2)\n",
            "Requirement already satisfied: appdirs>=1.4.3 in /usr/local/lib/python3.10/dist-packages (from wandb<0.17,>=0.12.0->clip-retrieval) (1.4.4)\n",
            "Requirement already satisfied: braceexpand in /usr/local/lib/python3.10/dist-packages (from webdataset<0.3,>=0.2->clip-retrieval) (0.1.7)\n",
            "Requirement already satisfied: scikit-image>=0.16.1 in /usr/local/lib/python3.10/dist-packages (from albumentations<2,>=1.1.0->img2dataset<2,>=1.25.5->clip-retrieval) (0.19.3)\n",
            "Requirement already satisfied: qudida>=0.0.4 in /usr/local/lib/python3.10/dist-packages (from albumentations<2,>=1.1.0->img2dataset<2,>=1.25.5->clip-retrieval) (0.0.4)\n",
            "Requirement already satisfied: gitdb<5,>=4.0.1 in /usr/local/lib/python3.10/dist-packages (from GitPython!=3.1.29,>=1.0.0->wandb<0.17,>=0.12.0->clip-retrieval) (4.0.11)\n",
            "Requirement already satisfied: MarkupSafe>=2.0 in /usr/local/lib/python3.10/dist-packages (from Jinja2>=3.1.2->flask<4,>=3.0.0->clip-retrieval) (2.1.5)\n",
            "Requirement already satisfied: wcwidth<0.3.0,>=0.2.12 in /usr/local/lib/python3.10/dist-packages (from ftfy->clip-anytorch<3,>=2.5.0->clip-retrieval) (0.2.13)\n",
            "Requirement already satisfied: joblib>=1.1.1 in /usr/local/lib/python3.10/dist-packages (from scikit-learn->sentence-transformers<3,>=2.2.0->clip-retrieval) (1.3.2)\n",
            "Requirement already satisfied: threadpoolctl>=2.0.0 in /usr/local/lib/python3.10/dist-packages (from scikit-learn->sentence-transformers<3,>=2.2.0->clip-retrieval) (3.2.0)\n",
            "Requirement already satisfied: mpmath>=0.19 in /usr/local/lib/python3.10/dist-packages (from sympy->torch<3,>=1.7.1->clip-retrieval) (1.3.0)\n",
            "Requirement already satisfied: smmap<6,>=3.0.1 in /usr/local/lib/python3.10/dist-packages (from gitdb<5,>=4.0.1->GitPython!=3.1.29,>=1.0.0->wandb<0.17,>=0.12.0->clip-retrieval) (5.0.1)\n",
            "Requirement already satisfied: imageio>=2.4.1 in /usr/local/lib/python3.10/dist-packages (from scikit-image>=0.16.1->albumentations<2,>=1.1.0->img2dataset<2,>=1.25.5->clip-retrieval) (2.31.6)\n",
            "Requirement already satisfied: tifffile>=2019.7.26 in /usr/local/lib/python3.10/dist-packages (from scikit-image>=0.16.1->albumentations<2,>=1.1.0->img2dataset<2,>=1.25.5->clip-retrieval) (2024.1.30)\n",
            "Requirement already satisfied: PyWavelets>=1.1.1 in /usr/local/lib/python3.10/dist-packages (from scikit-image>=0.16.1->albumentations<2,>=1.1.0->img2dataset<2,>=1.25.5->clip-retrieval) (1.5.0)\n",
            "Installing collected packages: blinker, GitPython, flask, wandb, flask-restful, flask-cors, embedding-reader, timm, clip-anytorch, autofaiss, sentence-transformers, open-clip-torch, multilingual-clip, img2dataset, all-clip, clip-retrieval\n",
            "  Attempting uninstall: blinker\n",
            "    Found existing installation: blinker 1.4\n",
            "\u001b[31mERROR: Cannot uninstall 'blinker'. It is a distutils installed project and thus we cannot accurately determine which files belong to it which would lead to only a partial uninstall.\u001b[0m\u001b[31m\n",
            "\u001b[0m"
          ]
        }
      ]
    },
    {
      "cell_type": "code",
      "source": [
        "!python retrieve.py --class_prompt cat --class_data_dir real_reg/samples_cat --num_class_images 200"
      ],
      "metadata": {
        "colab": {
          "base_uri": "https://localhost:8080/"
        },
        "id": "dJzox4bQgzUM",
        "outputId": "2b52494b-30c6-4e32-be85-1bb565a198d2"
      },
      "execution_count": null,
      "outputs": [
        {
          "output_type": "stream",
          "name": "stdout",
          "text": [
            "Traceback (most recent call last):\n",
            "  File \"/content/diffusers/examples/custom_diffusion/retrieve.py\", line 20, in <module>\n",
            "    from clip_retrieval.clip_client import ClipClient\n",
            "ModuleNotFoundError: No module named 'clip_retrieval'\n"
          ]
        }
      ]
    },
    {
      "cell_type": "code",
      "source": [
        "!python retrieve.py --class_prompt cat --class_data_dir data/cat --num_class_images 200"
      ],
      "metadata": {
        "colab": {
          "base_uri": "https://localhost:8080/"
        },
        "id": "VHTGNVTTg7AZ",
        "outputId": "55b5447a-a8a1-4d68-a32f-939c1dedf402"
      },
      "execution_count": null,
      "outputs": [
        {
          "output_type": "stream",
          "name": "stdout",
          "text": [
            "Traceback (most recent call last):\n",
            "  File \"/content/diffusers/examples/custom_diffusion/retrieve.py\", line 20, in <module>\n",
            "    from clip_retrieval.clip_client import ClipClient\n",
            "ModuleNotFoundError: No module named 'clip_retrieval'\n"
          ]
        }
      ]
    },
    {
      "cell_type": "code",
      "source": [
        "%pip install clip-retrieval"
      ],
      "metadata": {
        "colab": {
          "base_uri": "https://localhost:8080/"
        },
        "id": "FM6NfQsNg-Xi",
        "outputId": "7cea2954-314b-469a-811a-3afe5f0ae16c"
      },
      "execution_count": null,
      "outputs": [
        {
          "output_type": "stream",
          "name": "stdout",
          "text": [
            "Collecting clip-retrieval\n",
            "  Using cached clip_retrieval-2.44.0-py3-none-any.whl (343 kB)\n",
            "Collecting img2dataset<2,>=1.25.5 (from clip-retrieval)\n",
            "  Using cached img2dataset-1.45.0-py3-none-any.whl (42 kB)\n",
            "Collecting clip-anytorch<3,>=2.5.0 (from clip-retrieval)\n",
            "  Using cached clip_anytorch-2.6.0-py3-none-any.whl (1.4 MB)\n",
            "Requirement already satisfied: tqdm<5,>=4.62.3 in /usr/local/lib/python3.10/dist-packages (from clip-retrieval) (4.66.1)\n",
            "Requirement already satisfied: fire<0.6.0,>=0.4.0 in /usr/local/lib/python3.10/dist-packages (from clip-retrieval) (0.5.0)\n",
            "Requirement already satisfied: torch<3,>=1.7.1 in /usr/local/lib/python3.10/dist-packages (from clip-retrieval) (2.1.0+cu121)\n",
            "Requirement already satisfied: torchvision<2,>=0.10.1 in /usr/local/lib/python3.10/dist-packages (from clip-retrieval) (0.16.0+cu121)\n",
            "Requirement already satisfied: numpy<2,>=1.19.5 in /usr/local/lib/python3.10/dist-packages (from clip-retrieval) (1.23.5)\n",
            "Requirement already satisfied: faiss-cpu<2,>=1.7.2 in /usr/local/lib/python3.10/dist-packages (from clip-retrieval) (1.8.0)\n",
            "Collecting flask<4,>=3.0.0 (from clip-retrieval)\n",
            "  Using cached flask-3.0.3-py3-none-any.whl (101 kB)\n",
            "Collecting flask-restful<1,>=0.3.9 (from clip-retrieval)\n",
            "  Using cached Flask_RESTful-0.3.10-py2.py3-none-any.whl (26 kB)\n",
            "Collecting flask-cors<5,>=4.0.0 (from clip-retrieval)\n",
            "  Using cached Flask_Cors-4.0.0-py2.py3-none-any.whl (14 kB)\n",
            "Requirement already satisfied: pandas<3,>=1.1.5 in /usr/local/lib/python3.10/dist-packages (from clip-retrieval) (1.5.3)\n",
            "Requirement already satisfied: pyarrow<15,>=6.0.1 in /usr/local/lib/python3.10/dist-packages (from clip-retrieval) (10.0.1)\n",
            "Collecting autofaiss<3,>=2.9.6 (from clip-retrieval)\n",
            "  Using cached autofaiss-2.17.0-py3-none-any.whl (70 kB)\n",
            "Requirement already satisfied: webdataset<0.3,>=0.2 in /usr/local/lib/python3.10/dist-packages (from clip-retrieval) (0.2.86)\n",
            "Requirement already satisfied: h5py<4,>=3.1.0 in /usr/local/lib/python3.10/dist-packages (from clip-retrieval) (3.9.0)\n",
            "Requirement already satisfied: prometheus-client<1,>=0.13.1 in /usr/local/lib/python3.10/dist-packages (from clip-retrieval) (0.19.0)\n",
            "Requirement already satisfied: fsspec in /usr/local/lib/python3.10/dist-packages (from clip-retrieval) (2023.6.0)\n",
            "Collecting sentence-transformers<3,>=2.2.0 (from clip-retrieval)\n",
            "  Using cached sentence_transformers-2.7.0-py3-none-any.whl (171 kB)\n",
            "Collecting wandb<0.17,>=0.12.0 (from clip-retrieval)\n",
            "  Using cached wandb-0.16.6-py3-none-any.whl (2.2 MB)\n",
            "Collecting open-clip-torch<3.0.0,>=2.0.0 (from clip-retrieval)\n",
            "  Using cached open_clip_torch-2.24.0-py3-none-any.whl (1.5 MB)\n",
            "Requirement already satisfied: requests<3,>=2.27.1 in /usr/local/lib/python3.10/dist-packages (from clip-retrieval) (2.31.0)\n",
            "Requirement already satisfied: aiohttp<4,>=3.8.1 in /usr/local/lib/python3.10/dist-packages (from clip-retrieval) (3.9.3)\n",
            "Collecting multilingual-clip<2,>=1.0.10 (from clip-retrieval)\n",
            "  Using cached multilingual_clip-1.0.10-py3-none-any.whl (20 kB)\n",
            "Requirement already satisfied: transformers in /usr/local/lib/python3.10/dist-packages (from clip-retrieval) (4.35.2)\n",
            "Requirement already satisfied: urllib3<2 in /usr/local/lib/python3.10/dist-packages (from clip-retrieval) (1.26.18)\n",
            "Requirement already satisfied: scipy<1.12 in /usr/local/lib/python3.10/dist-packages (from clip-retrieval) (1.11.4)\n",
            "Collecting all-clip<2 (from clip-retrieval)\n",
            "  Using cached all_clip-1.2.0-py3-none-any.whl (10 kB)\n",
            "Requirement already satisfied: aiosignal>=1.1.2 in /usr/local/lib/python3.10/dist-packages (from aiohttp<4,>=3.8.1->clip-retrieval) (1.3.1)\n",
            "Requirement already satisfied: attrs>=17.3.0 in /usr/local/lib/python3.10/dist-packages (from aiohttp<4,>=3.8.1->clip-retrieval) (23.2.0)\n",
            "Requirement already satisfied: frozenlist>=1.1.1 in /usr/local/lib/python3.10/dist-packages (from aiohttp<4,>=3.8.1->clip-retrieval) (1.4.1)\n",
            "Requirement already satisfied: multidict<7.0,>=4.5 in /usr/local/lib/python3.10/dist-packages (from aiohttp<4,>=3.8.1->clip-retrieval) (6.0.5)\n",
            "Requirement already satisfied: yarl<2.0,>=1.0 in /usr/local/lib/python3.10/dist-packages (from aiohttp<4,>=3.8.1->clip-retrieval) (1.9.4)\n",
            "Requirement already satisfied: async-timeout<5.0,>=4.0 in /usr/local/lib/python3.10/dist-packages (from aiohttp<4,>=3.8.1->clip-retrieval) (4.0.3)\n",
            "Collecting embedding-reader<2,>=1.5.1 (from autofaiss<3,>=2.9.6->clip-retrieval)\n",
            "  Using cached embedding_reader-1.7.0-py3-none-any.whl (18 kB)\n",
            "Requirement already satisfied: ftfy in /usr/local/lib/python3.10/dist-packages (from clip-anytorch<3,>=2.5.0->clip-retrieval) (6.2.0)\n",
            "Requirement already satisfied: regex in /usr/local/lib/python3.10/dist-packages (from clip-anytorch<3,>=2.5.0->clip-retrieval) (2023.12.25)\n",
            "Requirement already satisfied: six in /usr/local/lib/python3.10/dist-packages (from fire<0.6.0,>=0.4.0->clip-retrieval) (1.16.0)\n",
            "Requirement already satisfied: termcolor in /usr/local/lib/python3.10/dist-packages (from fire<0.6.0,>=0.4.0->clip-retrieval) (2.4.0)\n",
            "Requirement already satisfied: Werkzeug>=3.0.0 in /usr/local/lib/python3.10/dist-packages (from flask<4,>=3.0.0->clip-retrieval) (3.0.1)\n",
            "Requirement already satisfied: Jinja2>=3.1.2 in /usr/local/lib/python3.10/dist-packages (from flask<4,>=3.0.0->clip-retrieval) (3.1.3)\n",
            "Requirement already satisfied: itsdangerous>=2.1.2 in /usr/local/lib/python3.10/dist-packages (from flask<4,>=3.0.0->clip-retrieval) (2.1.2)\n",
            "Requirement already satisfied: click>=8.1.3 in /usr/local/lib/python3.10/dist-packages (from flask<4,>=3.0.0->clip-retrieval) (8.1.7)\n",
            "Collecting blinker>=1.6.2 (from flask<4,>=3.0.0->clip-retrieval)\n",
            "  Using cached blinker-1.7.0-py3-none-any.whl (13 kB)\n",
            "Requirement already satisfied: aniso8601>=0.82 in /usr/local/lib/python3.10/dist-packages (from flask-restful<1,>=0.3.9->clip-retrieval) (9.0.1)\n",
            "Requirement already satisfied: pytz in /usr/local/lib/python3.10/dist-packages (from flask-restful<1,>=0.3.9->clip-retrieval) (2023.4)\n",
            "Requirement already satisfied: opencv-python-headless<5,>=4.5.5.62 in /usr/local/lib/python3.10/dist-packages (from img2dataset<2,>=1.25.5->clip-retrieval) (4.9.0.80)\n",
            "Requirement already satisfied: exifread-nocycle<4,>=3.0.1 in /usr/local/lib/python3.10/dist-packages (from img2dataset<2,>=1.25.5->clip-retrieval) (3.0.1)\n",
            "Requirement already satisfied: albumentations<2,>=1.1.0 in /usr/local/lib/python3.10/dist-packages (from img2dataset<2,>=1.25.5->clip-retrieval) (1.3.1)\n",
            "Requirement already satisfied: dataclasses<1.0.0,>=0.6 in /usr/local/lib/python3.10/dist-packages (from img2dataset<2,>=1.25.5->clip-retrieval) (0.6)\n",
            "Requirement already satisfied: huggingface-hub in /usr/local/lib/python3.10/dist-packages (from open-clip-torch<3.0.0,>=2.0.0->clip-retrieval) (0.20.3)\n",
            "Requirement already satisfied: sentencepiece in /usr/local/lib/python3.10/dist-packages (from open-clip-torch<3.0.0,>=2.0.0->clip-retrieval) (0.1.99)\n",
            "Requirement already satisfied: protobuf in /usr/local/lib/python3.10/dist-packages (from open-clip-torch<3.0.0,>=2.0.0->clip-retrieval) (3.20.3)\n",
            "Collecting timm (from open-clip-torch<3.0.0,>=2.0.0->clip-retrieval)\n",
            "  Using cached timm-0.9.16-py3-none-any.whl (2.2 MB)\n",
            "Requirement already satisfied: python-dateutil>=2.8.1 in /usr/local/lib/python3.10/dist-packages (from pandas<3,>=1.1.5->clip-retrieval) (2.8.2)\n",
            "Requirement already satisfied: charset-normalizer<4,>=2 in /usr/local/lib/python3.10/dist-packages (from requests<3,>=2.27.1->clip-retrieval) (3.3.2)\n",
            "Requirement already satisfied: idna<4,>=2.5 in /usr/local/lib/python3.10/dist-packages (from requests<3,>=2.27.1->clip-retrieval) (3.6)\n",
            "Requirement already satisfied: certifi>=2017.4.17 in /usr/local/lib/python3.10/dist-packages (from requests<3,>=2.27.1->clip-retrieval) (2024.2.2)\n",
            "Requirement already satisfied: scikit-learn in /usr/local/lib/python3.10/dist-packages (from sentence-transformers<3,>=2.2.0->clip-retrieval) (1.2.2)\n",
            "Requirement already satisfied: Pillow in /usr/local/lib/python3.10/dist-packages (from sentence-transformers<3,>=2.2.0->clip-retrieval) (9.4.0)\n",
            "Requirement already satisfied: filelock in /usr/local/lib/python3.10/dist-packages (from torch<3,>=1.7.1->clip-retrieval) (3.13.1)\n",
            "Requirement already satisfied: typing-extensions in /usr/local/lib/python3.10/dist-packages (from torch<3,>=1.7.1->clip-retrieval) (4.11.0)\n",
            "Requirement already satisfied: sympy in /usr/local/lib/python3.10/dist-packages (from torch<3,>=1.7.1->clip-retrieval) (1.12)\n",
            "Requirement already satisfied: networkx in /usr/local/lib/python3.10/dist-packages (from torch<3,>=1.7.1->clip-retrieval) (3.2.1)\n",
            "Requirement already satisfied: triton==2.1.0 in /usr/local/lib/python3.10/dist-packages (from torch<3,>=1.7.1->clip-retrieval) (2.1.0)\n",
            "Requirement already satisfied: packaging>=20.0 in /usr/local/lib/python3.10/dist-packages (from transformers->clip-retrieval) (23.2)\n",
            "Requirement already satisfied: pyyaml>=5.1 in /usr/local/lib/python3.10/dist-packages (from transformers->clip-retrieval) (6.0.1)\n",
            "Requirement already satisfied: tokenizers<0.19,>=0.14 in /usr/local/lib/python3.10/dist-packages (from transformers->clip-retrieval) (0.15.1)\n",
            "Requirement already satisfied: safetensors>=0.3.1 in /usr/local/lib/python3.10/dist-packages (from transformers->clip-retrieval) (0.4.2)\n",
            "Collecting GitPython!=3.1.29,>=1.0.0 (from wandb<0.17,>=0.12.0->clip-retrieval)\n",
            "  Using cached GitPython-3.1.43-py3-none-any.whl (207 kB)\n",
            "Requirement already satisfied: psutil>=5.0.0 in /usr/local/lib/python3.10/dist-packages (from wandb<0.17,>=0.12.0->clip-retrieval) (5.9.5)\n",
            "Requirement already satisfied: sentry-sdk>=1.0.0 in /usr/local/lib/python3.10/dist-packages (from wandb<0.17,>=0.12.0->clip-retrieval) (1.45.0)\n",
            "Requirement already satisfied: docker-pycreds>=0.4.0 in /usr/local/lib/python3.10/dist-packages (from wandb<0.17,>=0.12.0->clip-retrieval) (0.4.0)\n",
            "Requirement already satisfied: setproctitle in /usr/local/lib/python3.10/dist-packages (from wandb<0.17,>=0.12.0->clip-retrieval) (1.3.3)\n",
            "Requirement already satisfied: setuptools in /usr/local/lib/python3.10/dist-packages (from wandb<0.17,>=0.12.0->clip-retrieval) (67.7.2)\n",
            "Requirement already satisfied: appdirs>=1.4.3 in /usr/local/lib/python3.10/dist-packages (from wandb<0.17,>=0.12.0->clip-retrieval) (1.4.4)\n",
            "Requirement already satisfied: braceexpand in /usr/local/lib/python3.10/dist-packages (from webdataset<0.3,>=0.2->clip-retrieval) (0.1.7)\n",
            "Requirement already satisfied: scikit-image>=0.16.1 in /usr/local/lib/python3.10/dist-packages (from albumentations<2,>=1.1.0->img2dataset<2,>=1.25.5->clip-retrieval) (0.19.3)\n",
            "Requirement already satisfied: qudida>=0.0.4 in /usr/local/lib/python3.10/dist-packages (from albumentations<2,>=1.1.0->img2dataset<2,>=1.25.5->clip-retrieval) (0.0.4)\n",
            "Requirement already satisfied: gitdb<5,>=4.0.1 in /usr/local/lib/python3.10/dist-packages (from GitPython!=3.1.29,>=1.0.0->wandb<0.17,>=0.12.0->clip-retrieval) (4.0.11)\n",
            "Requirement already satisfied: MarkupSafe>=2.0 in /usr/local/lib/python3.10/dist-packages (from Jinja2>=3.1.2->flask<4,>=3.0.0->clip-retrieval) (2.1.5)\n",
            "Requirement already satisfied: wcwidth<0.3.0,>=0.2.12 in /usr/local/lib/python3.10/dist-packages (from ftfy->clip-anytorch<3,>=2.5.0->clip-retrieval) (0.2.13)\n",
            "Requirement already satisfied: joblib>=1.1.1 in /usr/local/lib/python3.10/dist-packages (from scikit-learn->sentence-transformers<3,>=2.2.0->clip-retrieval) (1.3.2)\n",
            "Requirement already satisfied: threadpoolctl>=2.0.0 in /usr/local/lib/python3.10/dist-packages (from scikit-learn->sentence-transformers<3,>=2.2.0->clip-retrieval) (3.2.0)\n",
            "Requirement already satisfied: mpmath>=0.19 in /usr/local/lib/python3.10/dist-packages (from sympy->torch<3,>=1.7.1->clip-retrieval) (1.3.0)\n",
            "Requirement already satisfied: smmap<6,>=3.0.1 in /usr/local/lib/python3.10/dist-packages (from gitdb<5,>=4.0.1->GitPython!=3.1.29,>=1.0.0->wandb<0.17,>=0.12.0->clip-retrieval) (5.0.1)\n",
            "Requirement already satisfied: imageio>=2.4.1 in /usr/local/lib/python3.10/dist-packages (from scikit-image>=0.16.1->albumentations<2,>=1.1.0->img2dataset<2,>=1.25.5->clip-retrieval) (2.31.6)\n",
            "Requirement already satisfied: tifffile>=2019.7.26 in /usr/local/lib/python3.10/dist-packages (from scikit-image>=0.16.1->albumentations<2,>=1.1.0->img2dataset<2,>=1.25.5->clip-retrieval) (2024.1.30)\n",
            "Requirement already satisfied: PyWavelets>=1.1.1 in /usr/local/lib/python3.10/dist-packages (from scikit-image>=0.16.1->albumentations<2,>=1.1.0->img2dataset<2,>=1.25.5->clip-retrieval) (1.5.0)\n",
            "Installing collected packages: blinker, GitPython, flask, wandb, flask-restful, flask-cors, embedding-reader, timm, clip-anytorch, autofaiss, sentence-transformers, open-clip-torch, multilingual-clip, img2dataset, all-clip, clip-retrieval\n",
            "  Attempting uninstall: blinker\n",
            "    Found existing installation: blinker 1.4\n",
            "\u001b[31mERROR: Cannot uninstall 'blinker'. It is a distutils installed project and thus we cannot accurately determine which files belong to it which would lead to only a partial uninstall.\u001b[0m\u001b[31m\n",
            "\u001b[0m"
          ]
        }
      ]
    },
    {
      "cell_type": "code",
      "source": [
        "!pip3 install --ignore-installed embedchain"
      ],
      "metadata": {
        "colab": {
          "base_uri": "https://localhost:8080/",
          "height": 1000
        },
        "id": "RoyLb1dwh9VS",
        "outputId": "86ecad8c-a507-4ffa-cd95-c7a72cc9de47"
      },
      "execution_count": null,
      "outputs": [
        {
          "output_type": "stream",
          "name": "stdout",
          "text": [
            "Collecting embedchain\n",
            "  Using cached embedchain-0.1.102-py3-none-any.whl (192 kB)\n",
            "Collecting alembic<2.0.0,>=1.13.1 (from embedchain)\n",
            "  Using cached alembic-1.13.1-py3-none-any.whl (233 kB)\n",
            "Collecting beautifulsoup4<5.0.0,>=4.12.2 (from embedchain)\n",
            "  Using cached beautifulsoup4-4.12.3-py3-none-any.whl (147 kB)\n",
            "Collecting chromadb<0.5.0,>=0.4.17 (from embedchain)\n",
            "  Using cached chromadb-0.4.24-py3-none-any.whl (525 kB)\n",
            "Collecting google-cloud-aiplatform<2.0.0,>=1.26.1 (from embedchain)\n",
            "  Using cached google_cloud_aiplatform-1.48.0-py2.py3-none-any.whl (4.8 MB)\n",
            "Collecting gptcache<0.2.0,>=0.1.43 (from embedchain)\n",
            "  Using cached gptcache-0.1.43-py3-none-any.whl (131 kB)\n",
            "Collecting langchain<0.2.0,>=0.1.4 (from embedchain)\n",
            "  Using cached langchain-0.1.16-py3-none-any.whl (817 kB)\n",
            "Collecting langchain-openai<0.0.6,>=0.0.5 (from embedchain)\n",
            "  Using cached langchain_openai-0.0.5-py3-none-any.whl (29 kB)\n",
            "Collecting openai>=1.1.1 (from embedchain)\n",
            "  Using cached openai-1.23.4-py3-none-any.whl (311 kB)\n",
            "Collecting posthog<4.0.0,>=3.0.2 (from embedchain)\n",
            "  Using cached posthog-3.5.0-py2.py3-none-any.whl (41 kB)\n",
            "Collecting pypdf<4.0.0,>=3.11.0 (from embedchain)\n",
            "  Using cached pypdf-3.17.4-py3-none-any.whl (278 kB)\n",
            "Collecting pysbd<0.4.0,>=0.3.4 (from embedchain)\n",
            "  Using cached pysbd-0.3.4-py3-none-any.whl (71 kB)\n",
            "Collecting python-dotenv<2.0.0,>=1.0.0 (from embedchain)\n",
            "  Using cached python_dotenv-1.0.1-py3-none-any.whl (19 kB)\n",
            "Collecting rich<14.0.0,>=13.7.0 (from embedchain)\n",
            "  Using cached rich-13.7.1-py3-none-any.whl (240 kB)\n",
            "Collecting schema<0.8.0,>=0.7.5 (from embedchain)\n",
            "  Using cached schema-0.7.5-py2.py3-none-any.whl (17 kB)\n",
            "Collecting sqlalchemy<3.0.0,>=2.0.27 (from embedchain)\n",
            "  Using cached SQLAlchemy-2.0.29-cp310-cp310-manylinux_2_17_x86_64.manylinux2014_x86_64.whl (3.1 MB)\n",
            "Collecting tiktoken<0.6.0,>=0.5.2 (from embedchain)\n",
            "  Using cached tiktoken-0.5.2-cp310-cp310-manylinux_2_17_x86_64.manylinux2014_x86_64.whl (2.0 MB)\n",
            "Collecting Mako (from alembic<2.0.0,>=1.13.1->embedchain)\n",
            "  Using cached Mako-1.3.3-py3-none-any.whl (78 kB)\n",
            "Collecting typing-extensions>=4 (from alembic<2.0.0,>=1.13.1->embedchain)\n",
            "  Using cached typing_extensions-4.11.0-py3-none-any.whl (34 kB)\n",
            "Collecting soupsieve>1.2 (from beautifulsoup4<5.0.0,>=4.12.2->embedchain)\n",
            "  Using cached soupsieve-2.5-py3-none-any.whl (36 kB)\n",
            "Collecting build>=1.0.3 (from chromadb<0.5.0,>=0.4.17->embedchain)\n",
            "  Using cached build-1.2.1-py3-none-any.whl (21 kB)\n",
            "Collecting requests>=2.28 (from chromadb<0.5.0,>=0.4.17->embedchain)\n",
            "  Using cached requests-2.31.0-py3-none-any.whl (62 kB)\n",
            "Collecting pydantic>=1.9 (from chromadb<0.5.0,>=0.4.17->embedchain)\n",
            "  Using cached pydantic-2.7.1-py3-none-any.whl (409 kB)\n",
            "Collecting chroma-hnswlib==0.7.3 (from chromadb<0.5.0,>=0.4.17->embedchain)\n",
            "  Using cached chroma_hnswlib-0.7.3-cp310-cp310-manylinux_2_17_x86_64.manylinux2014_x86_64.whl (2.4 MB)\n",
            "Collecting fastapi>=0.95.2 (from chromadb<0.5.0,>=0.4.17->embedchain)\n",
            "  Using cached fastapi-0.110.2-py3-none-any.whl (91 kB)\n",
            "Collecting uvicorn[standard]>=0.18.3 (from chromadb<0.5.0,>=0.4.17->embedchain)\n",
            "  Using cached uvicorn-0.29.0-py3-none-any.whl (60 kB)\n",
            "Collecting numpy>=1.22.5 (from chromadb<0.5.0,>=0.4.17->embedchain)\n",
            "  Using cached numpy-1.26.4-cp310-cp310-manylinux_2_17_x86_64.manylinux2014_x86_64.whl (18.2 MB)\n",
            "Collecting pulsar-client>=3.1.0 (from chromadb<0.5.0,>=0.4.17->embedchain)\n",
            "  Using cached pulsar_client-3.5.0-cp310-cp310-manylinux_2_17_x86_64.manylinux2014_x86_64.whl (5.4 MB)\n",
            "Collecting onnxruntime>=1.14.1 (from chromadb<0.5.0,>=0.4.17->embedchain)\n",
            "  Using cached onnxruntime-1.17.3-cp310-cp310-manylinux_2_27_x86_64.manylinux_2_28_x86_64.whl (6.8 MB)\n",
            "Collecting opentelemetry-api>=1.2.0 (from chromadb<0.5.0,>=0.4.17->embedchain)\n",
            "  Using cached opentelemetry_api-1.24.0-py3-none-any.whl (60 kB)\n",
            "Collecting opentelemetry-exporter-otlp-proto-grpc>=1.2.0 (from chromadb<0.5.0,>=0.4.17->embedchain)\n",
            "  Using cached opentelemetry_exporter_otlp_proto_grpc-1.24.0-py3-none-any.whl (18 kB)\n",
            "Collecting opentelemetry-instrumentation-fastapi>=0.41b0 (from chromadb<0.5.0,>=0.4.17->embedchain)\n",
            "  Using cached opentelemetry_instrumentation_fastapi-0.45b0-py3-none-any.whl (11 kB)\n",
            "Collecting opentelemetry-sdk>=1.2.0 (from chromadb<0.5.0,>=0.4.17->embedchain)\n",
            "  Using cached opentelemetry_sdk-1.24.0-py3-none-any.whl (106 kB)\n",
            "Collecting tokenizers>=0.13.2 (from chromadb<0.5.0,>=0.4.17->embedchain)\n",
            "  Using cached tokenizers-0.19.1-cp310-cp310-manylinux_2_17_x86_64.manylinux2014_x86_64.whl (3.6 MB)\n",
            "Collecting pypika>=0.48.9 (from chromadb<0.5.0,>=0.4.17->embedchain)\n",
            "  Using cached PyPika-0.48.9-py2.py3-none-any.whl\n",
            "Collecting tqdm>=4.65.0 (from chromadb<0.5.0,>=0.4.17->embedchain)\n",
            "  Using cached tqdm-4.66.2-py3-none-any.whl (78 kB)\n",
            "Collecting overrides>=7.3.1 (from chromadb<0.5.0,>=0.4.17->embedchain)\n",
            "  Using cached overrides-7.7.0-py3-none-any.whl (17 kB)\n",
            "Collecting importlib-resources (from chromadb<0.5.0,>=0.4.17->embedchain)\n",
            "  Using cached importlib_resources-6.4.0-py3-none-any.whl (38 kB)\n",
            "Collecting grpcio>=1.58.0 (from chromadb<0.5.0,>=0.4.17->embedchain)\n",
            "  Using cached grpcio-1.62.2-cp310-cp310-manylinux_2_17_x86_64.manylinux2014_x86_64.whl (5.5 MB)\n",
            "Collecting bcrypt>=4.0.1 (from chromadb<0.5.0,>=0.4.17->embedchain)\n",
            "  Using cached bcrypt-4.1.2-cp39-abi3-manylinux_2_28_x86_64.whl (698 kB)\n",
            "Collecting typer>=0.9.0 (from chromadb<0.5.0,>=0.4.17->embedchain)\n",
            "  Using cached typer-0.12.3-py3-none-any.whl (47 kB)\n",
            "Collecting kubernetes>=28.1.0 (from chromadb<0.5.0,>=0.4.17->embedchain)\n",
            "  Using cached kubernetes-29.0.0-py2.py3-none-any.whl (1.6 MB)\n",
            "Collecting tenacity>=8.2.3 (from chromadb<0.5.0,>=0.4.17->embedchain)\n",
            "  Using cached tenacity-8.2.3-py3-none-any.whl (24 kB)\n",
            "Collecting PyYAML>=6.0.0 (from chromadb<0.5.0,>=0.4.17->embedchain)\n",
            "  Using cached PyYAML-6.0.1-cp310-cp310-manylinux_2_17_x86_64.manylinux2014_x86_64.whl (705 kB)\n",
            "Collecting mmh3>=4.0.1 (from chromadb<0.5.0,>=0.4.17->embedchain)\n",
            "  Using cached mmh3-4.1.0-cp310-cp310-manylinux_2_5_x86_64.manylinux1_x86_64.manylinux_2_17_x86_64.manylinux2014_x86_64.whl (67 kB)\n",
            "Collecting orjson>=3.9.12 (from chromadb<0.5.0,>=0.4.17->embedchain)\n",
            "  Using cached orjson-3.10.1-cp310-cp310-manylinux_2_17_x86_64.manylinux2014_x86_64.whl (141 kB)\n",
            "Collecting google-api-core[grpc]!=2.0.*,!=2.1.*,!=2.2.*,!=2.3.*,!=2.4.*,!=2.5.*,!=2.6.*,!=2.7.*,<3.0.0dev,>=1.34.1 (from google-cloud-aiplatform<2.0.0,>=1.26.1->embedchain)\n",
            "  Using cached google_api_core-2.18.0-py3-none-any.whl (138 kB)\n",
            "Collecting google-auth<3.0.0dev,>=2.14.1 (from google-cloud-aiplatform<2.0.0,>=1.26.1->embedchain)\n",
            "  Using cached google_auth-2.29.0-py2.py3-none-any.whl (189 kB)\n",
            "Collecting proto-plus<2.0.0dev,>=1.22.0 (from google-cloud-aiplatform<2.0.0,>=1.26.1->embedchain)\n",
            "  Using cached proto_plus-1.23.0-py3-none-any.whl (48 kB)\n",
            "Collecting protobuf!=3.20.0,!=3.20.1,!=4.21.0,!=4.21.1,!=4.21.2,!=4.21.3,!=4.21.4,!=4.21.5,<5.0.0dev,>=3.19.5 (from google-cloud-aiplatform<2.0.0,>=1.26.1->embedchain)\n",
            "  Using cached protobuf-4.25.3-cp37-abi3-manylinux2014_x86_64.whl (294 kB)\n",
            "Collecting packaging>=14.3 (from google-cloud-aiplatform<2.0.0,>=1.26.1->embedchain)\n",
            "  Using cached packaging-24.0-py3-none-any.whl (53 kB)\n",
            "Collecting google-cloud-storage<3.0.0dev,>=1.32.0 (from google-cloud-aiplatform<2.0.0,>=1.26.1->embedchain)\n",
            "  Using cached google_cloud_storage-2.16.0-py2.py3-none-any.whl (125 kB)\n",
            "Collecting google-cloud-bigquery!=3.20.0,<4.0.0dev,>=1.15.0 (from google-cloud-aiplatform<2.0.0,>=1.26.1->embedchain)\n",
            "  Using cached google_cloud_bigquery-3.21.0-py2.py3-none-any.whl (235 kB)\n",
            "Collecting google-cloud-resource-manager<3.0.0dev,>=1.3.3 (from google-cloud-aiplatform<2.0.0,>=1.26.1->embedchain)\n",
            "  Using cached google_cloud_resource_manager-1.12.3-py2.py3-none-any.whl (333 kB)\n",
            "Collecting shapely<3.0.0dev (from google-cloud-aiplatform<2.0.0,>=1.26.1->embedchain)\n",
            "  Using cached shapely-2.0.4-cp310-cp310-manylinux_2_17_x86_64.manylinux2014_x86_64.whl (2.5 MB)\n",
            "Collecting docstring-parser<1 (from google-cloud-aiplatform<2.0.0,>=1.26.1->embedchain)\n",
            "  Using cached docstring_parser-0.16-py3-none-any.whl (36 kB)\n",
            "Collecting cachetools (from gptcache<0.2.0,>=0.1.43->embedchain)\n",
            "  Using cached cachetools-5.3.3-py3-none-any.whl (9.3 kB)\n",
            "Collecting aiohttp<4.0.0,>=3.8.3 (from langchain<0.2.0,>=0.1.4->embedchain)\n",
            "  Using cached aiohttp-3.9.5-cp310-cp310-manylinux_2_17_x86_64.manylinux2014_x86_64.whl (1.2 MB)\n",
            "Collecting async-timeout<5.0.0,>=4.0.0 (from langchain<0.2.0,>=0.1.4->embedchain)\n",
            "  Using cached async_timeout-4.0.3-py3-none-any.whl (5.7 kB)\n",
            "Collecting dataclasses-json<0.7,>=0.5.7 (from langchain<0.2.0,>=0.1.4->embedchain)\n",
            "  Using cached dataclasses_json-0.6.4-py3-none-any.whl (28 kB)\n",
            "Collecting jsonpatch<2.0,>=1.33 (from langchain<0.2.0,>=0.1.4->embedchain)\n",
            "  Using cached jsonpatch-1.33-py2.py3-none-any.whl (12 kB)\n",
            "Collecting langchain-community<0.1,>=0.0.32 (from langchain<0.2.0,>=0.1.4->embedchain)\n",
            "  Using cached langchain_community-0.0.34-py3-none-any.whl (1.9 MB)\n",
            "Collecting langchain-core<0.2.0,>=0.1.42 (from langchain<0.2.0,>=0.1.4->embedchain)\n",
            "  Using cached langchain_core-0.1.45-py3-none-any.whl (291 kB)\n",
            "Collecting langchain-text-splitters<0.1,>=0.0.1 (from langchain<0.2.0,>=0.1.4->embedchain)\n",
            "  Using cached langchain_text_splitters-0.0.1-py3-none-any.whl (21 kB)\n",
            "Collecting langsmith<0.2.0,>=0.1.17 (from langchain<0.2.0,>=0.1.4->embedchain)\n",
            "  Using cached langsmith-0.1.50-py3-none-any.whl (115 kB)\n",
            "Collecting anyio<5,>=3.5.0 (from openai>=1.1.1->embedchain)\n",
            "  Using cached anyio-4.3.0-py3-none-any.whl (85 kB)\n",
            "Collecting distro<2,>=1.7.0 (from openai>=1.1.1->embedchain)\n",
            "  Using cached distro-1.9.0-py3-none-any.whl (20 kB)\n",
            "Collecting httpx<1,>=0.23.0 (from openai>=1.1.1->embedchain)\n",
            "  Using cached httpx-0.27.0-py3-none-any.whl (75 kB)\n",
            "Collecting sniffio (from openai>=1.1.1->embedchain)\n",
            "  Using cached sniffio-1.3.1-py3-none-any.whl (10 kB)\n",
            "Collecting six>=1.5 (from posthog<4.0.0,>=3.0.2->embedchain)\n",
            "  Using cached six-1.16.0-py2.py3-none-any.whl (11 kB)\n",
            "Collecting monotonic>=1.5 (from posthog<4.0.0,>=3.0.2->embedchain)\n",
            "  Using cached monotonic-1.6-py2.py3-none-any.whl (8.2 kB)\n",
            "Collecting backoff>=1.10.0 (from posthog<4.0.0,>=3.0.2->embedchain)\n",
            "  Using cached backoff-2.2.1-py3-none-any.whl (15 kB)\n",
            "Collecting python-dateutil>2.1 (from posthog<4.0.0,>=3.0.2->embedchain)\n",
            "  Using cached python_dateutil-2.9.0.post0-py2.py3-none-any.whl (229 kB)\n",
            "Collecting markdown-it-py>=2.2.0 (from rich<14.0.0,>=13.7.0->embedchain)\n",
            "  Using cached markdown_it_py-3.0.0-py3-none-any.whl (87 kB)\n",
            "Collecting pygments<3.0.0,>=2.13.0 (from rich<14.0.0,>=13.7.0->embedchain)\n",
            "  Using cached pygments-2.17.2-py3-none-any.whl (1.2 MB)\n",
            "Collecting contextlib2>=0.5.5 (from schema<0.8.0,>=0.7.5->embedchain)\n",
            "  Using cached contextlib2-21.6.0-py2.py3-none-any.whl (13 kB)\n",
            "Collecting greenlet!=0.4.17 (from sqlalchemy<3.0.0,>=2.0.27->embedchain)\n",
            "  Using cached greenlet-3.0.3-cp310-cp310-manylinux_2_24_x86_64.manylinux_2_28_x86_64.whl (616 kB)\n",
            "Collecting regex>=2022.1.18 (from tiktoken<0.6.0,>=0.5.2->embedchain)\n",
            "  Using cached regex-2024.4.16-cp310-cp310-manylinux_2_17_x86_64.manylinux2014_x86_64.whl (773 kB)\n",
            "Collecting aiosignal>=1.1.2 (from aiohttp<4.0.0,>=3.8.3->langchain<0.2.0,>=0.1.4->embedchain)\n",
            "  Using cached aiosignal-1.3.1-py3-none-any.whl (7.6 kB)\n",
            "Collecting attrs>=17.3.0 (from aiohttp<4.0.0,>=3.8.3->langchain<0.2.0,>=0.1.4->embedchain)\n",
            "  Using cached attrs-23.2.0-py3-none-any.whl (60 kB)\n",
            "Collecting frozenlist>=1.1.1 (from aiohttp<4.0.0,>=3.8.3->langchain<0.2.0,>=0.1.4->embedchain)\n",
            "  Using cached frozenlist-1.4.1-cp310-cp310-manylinux_2_5_x86_64.manylinux1_x86_64.manylinux_2_17_x86_64.manylinux2014_x86_64.whl (239 kB)\n",
            "Collecting multidict<7.0,>=4.5 (from aiohttp<4.0.0,>=3.8.3->langchain<0.2.0,>=0.1.4->embedchain)\n",
            "  Using cached multidict-6.0.5-cp310-cp310-manylinux_2_17_x86_64.manylinux2014_x86_64.whl (124 kB)\n",
            "Collecting yarl<2.0,>=1.0 (from aiohttp<4.0.0,>=3.8.3->langchain<0.2.0,>=0.1.4->embedchain)\n",
            "  Using cached yarl-1.9.4-cp310-cp310-manylinux_2_17_x86_64.manylinux2014_x86_64.whl (301 kB)\n",
            "Collecting idna>=2.8 (from anyio<5,>=3.5.0->openai>=1.1.1->embedchain)\n",
            "  Using cached idna-3.7-py3-none-any.whl (66 kB)\n",
            "Collecting exceptiongroup>=1.0.2 (from anyio<5,>=3.5.0->openai>=1.1.1->embedchain)\n",
            "  Using cached exceptiongroup-1.2.1-py3-none-any.whl (16 kB)\n",
            "Collecting pyproject_hooks (from build>=1.0.3->chromadb<0.5.0,>=0.4.17->embedchain)\n",
            "  Using cached pyproject_hooks-1.0.0-py3-none-any.whl (9.3 kB)\n",
            "Collecting tomli>=1.1.0 (from build>=1.0.3->chromadb<0.5.0,>=0.4.17->embedchain)\n",
            "  Using cached tomli-2.0.1-py3-none-any.whl (12 kB)\n",
            "Collecting marshmallow<4.0.0,>=3.18.0 (from dataclasses-json<0.7,>=0.5.7->langchain<0.2.0,>=0.1.4->embedchain)\n",
            "  Using cached marshmallow-3.21.1-py3-none-any.whl (49 kB)\n",
            "Collecting typing-inspect<1,>=0.4.0 (from dataclasses-json<0.7,>=0.5.7->langchain<0.2.0,>=0.1.4->embedchain)\n",
            "  Using cached typing_inspect-0.9.0-py3-none-any.whl (8.8 kB)\n",
            "Collecting starlette<0.38.0,>=0.37.2 (from fastapi>=0.95.2->chromadb<0.5.0,>=0.4.17->embedchain)\n",
            "  Using cached starlette-0.37.2-py3-none-any.whl (71 kB)\n",
            "Collecting googleapis-common-protos<2.0.dev0,>=1.56.2 (from google-api-core[grpc]!=2.0.*,!=2.1.*,!=2.2.*,!=2.3.*,!=2.4.*,!=2.5.*,!=2.6.*,!=2.7.*,<3.0.0dev,>=1.34.1->google-cloud-aiplatform<2.0.0,>=1.26.1->embedchain)\n",
            "  Using cached googleapis_common_protos-1.63.0-py2.py3-none-any.whl (229 kB)\n",
            "Collecting grpcio-status<2.0.dev0,>=1.33.2 (from google-api-core[grpc]!=2.0.*,!=2.1.*,!=2.2.*,!=2.3.*,!=2.4.*,!=2.5.*,!=2.6.*,!=2.7.*,<3.0.0dev,>=1.34.1->google-cloud-aiplatform<2.0.0,>=1.26.1->embedchain)\n",
            "  Using cached grpcio_status-1.62.2-py3-none-any.whl (14 kB)\n",
            "Collecting pyasn1-modules>=0.2.1 (from google-auth<3.0.0dev,>=2.14.1->google-cloud-aiplatform<2.0.0,>=1.26.1->embedchain)\n",
            "  Using cached pyasn1_modules-0.4.0-py3-none-any.whl (181 kB)\n",
            "Collecting rsa<5,>=3.1.4 (from google-auth<3.0.0dev,>=2.14.1->google-cloud-aiplatform<2.0.0,>=1.26.1->embedchain)\n",
            "  Using cached rsa-4.9-py3-none-any.whl (34 kB)\n",
            "Collecting google-cloud-core<3.0.0dev,>=1.6.0 (from google-cloud-bigquery!=3.20.0,<4.0.0dev,>=1.15.0->google-cloud-aiplatform<2.0.0,>=1.26.1->embedchain)\n",
            "  Using cached google_cloud_core-2.4.1-py2.py3-none-any.whl (29 kB)\n",
            "Collecting google-resumable-media<3.0dev,>=0.6.0 (from google-cloud-bigquery!=3.20.0,<4.0.0dev,>=1.15.0->google-cloud-aiplatform<2.0.0,>=1.26.1->embedchain)\n",
            "  Using cached google_resumable_media-2.7.0-py2.py3-none-any.whl (80 kB)\n",
            "Collecting grpc-google-iam-v1<1.0.0dev,>=0.12.4 (from google-cloud-resource-manager<3.0.0dev,>=1.3.3->google-cloud-aiplatform<2.0.0,>=1.26.1->embedchain)\n",
            "  Using cached grpc_google_iam_v1-0.13.0-py2.py3-none-any.whl (25 kB)\n",
            "Collecting google-crc32c<2.0dev,>=1.0 (from google-cloud-storage<3.0.0dev,>=1.32.0->google-cloud-aiplatform<2.0.0,>=1.26.1->embedchain)\n",
            "  Using cached google_crc32c-1.5.0-cp310-cp310-manylinux_2_17_x86_64.manylinux2014_x86_64.whl (32 kB)\n",
            "Collecting certifi (from httpx<1,>=0.23.0->openai>=1.1.1->embedchain)\n",
            "  Using cached certifi-2024.2.2-py3-none-any.whl (163 kB)\n",
            "Collecting httpcore==1.* (from httpx<1,>=0.23.0->openai>=1.1.1->embedchain)\n",
            "  Using cached httpcore-1.0.5-py3-none-any.whl (77 kB)\n",
            "Collecting h11<0.15,>=0.13 (from httpcore==1.*->httpx<1,>=0.23.0->openai>=1.1.1->embedchain)\n",
            "  Using cached h11-0.14.0-py3-none-any.whl (58 kB)\n",
            "Collecting jsonpointer>=1.9 (from jsonpatch<2.0,>=1.33->langchain<0.2.0,>=0.1.4->embedchain)\n",
            "  Using cached jsonpointer-2.4-py2.py3-none-any.whl (7.8 kB)\n",
            "Collecting websocket-client!=0.40.0,!=0.41.*,!=0.42.*,>=0.32.0 (from kubernetes>=28.1.0->chromadb<0.5.0,>=0.4.17->embedchain)\n",
            "  Using cached websocket_client-1.8.0-py3-none-any.whl (58 kB)\n",
            "Collecting requests-oauthlib (from kubernetes>=28.1.0->chromadb<0.5.0,>=0.4.17->embedchain)\n",
            "  Using cached requests_oauthlib-2.0.0-py2.py3-none-any.whl (24 kB)\n",
            "Collecting oauthlib>=3.2.2 (from kubernetes>=28.1.0->chromadb<0.5.0,>=0.4.17->embedchain)\n",
            "  Using cached oauthlib-3.2.2-py3-none-any.whl (151 kB)\n",
            "Collecting urllib3>=1.24.2 (from kubernetes>=28.1.0->chromadb<0.5.0,>=0.4.17->embedchain)\n",
            "  Using cached urllib3-2.2.1-py3-none-any.whl (121 kB)\n",
            "Collecting packaging>=14.3 (from google-cloud-aiplatform<2.0.0,>=1.26.1->embedchain)\n",
            "  Using cached packaging-23.2-py3-none-any.whl (53 kB)\n",
            "Collecting mdurl~=0.1 (from markdown-it-py>=2.2.0->rich<14.0.0,>=13.7.0->embedchain)\n",
            "  Using cached mdurl-0.1.2-py3-none-any.whl (10.0 kB)\n",
            "Collecting coloredlogs (from onnxruntime>=1.14.1->chromadb<0.5.0,>=0.4.17->embedchain)\n",
            "  Using cached coloredlogs-15.0.1-py2.py3-none-any.whl (46 kB)\n",
            "Collecting flatbuffers (from onnxruntime>=1.14.1->chromadb<0.5.0,>=0.4.17->embedchain)\n",
            "  Using cached flatbuffers-24.3.25-py2.py3-none-any.whl (26 kB)\n",
            "Collecting sympy (from onnxruntime>=1.14.1->chromadb<0.5.0,>=0.4.17->embedchain)\n",
            "  Using cached sympy-1.12-py3-none-any.whl (5.7 MB)\n",
            "Collecting deprecated>=1.2.6 (from opentelemetry-api>=1.2.0->chromadb<0.5.0,>=0.4.17->embedchain)\n",
            "  Using cached Deprecated-1.2.14-py2.py3-none-any.whl (9.6 kB)\n",
            "Collecting importlib-metadata<=7.0,>=6.0 (from opentelemetry-api>=1.2.0->chromadb<0.5.0,>=0.4.17->embedchain)\n",
            "  Using cached importlib_metadata-7.0.0-py3-none-any.whl (23 kB)\n",
            "Collecting opentelemetry-exporter-otlp-proto-common==1.24.0 (from opentelemetry-exporter-otlp-proto-grpc>=1.2.0->chromadb<0.5.0,>=0.4.17->embedchain)\n",
            "  Using cached opentelemetry_exporter_otlp_proto_common-1.24.0-py3-none-any.whl (17 kB)\n",
            "Collecting opentelemetry-proto==1.24.0 (from opentelemetry-exporter-otlp-proto-grpc>=1.2.0->chromadb<0.5.0,>=0.4.17->embedchain)\n",
            "  Using cached opentelemetry_proto-1.24.0-py3-none-any.whl (50 kB)\n",
            "Collecting opentelemetry-instrumentation-asgi==0.45b0 (from opentelemetry-instrumentation-fastapi>=0.41b0->chromadb<0.5.0,>=0.4.17->embedchain)\n",
            "  Using cached opentelemetry_instrumentation_asgi-0.45b0-py3-none-any.whl (14 kB)\n",
            "Collecting opentelemetry-instrumentation==0.45b0 (from opentelemetry-instrumentation-fastapi>=0.41b0->chromadb<0.5.0,>=0.4.17->embedchain)\n",
            "  Using cached opentelemetry_instrumentation-0.45b0-py3-none-any.whl (28 kB)\n",
            "Collecting opentelemetry-semantic-conventions==0.45b0 (from opentelemetry-instrumentation-fastapi>=0.41b0->chromadb<0.5.0,>=0.4.17->embedchain)\n",
            "  Using cached opentelemetry_semantic_conventions-0.45b0-py3-none-any.whl (36 kB)\n",
            "Collecting opentelemetry-util-http==0.45b0 (from opentelemetry-instrumentation-fastapi>=0.41b0->chromadb<0.5.0,>=0.4.17->embedchain)\n",
            "  Using cached opentelemetry_util_http-0.45b0-py3-none-any.whl (6.9 kB)\n",
            "Collecting setuptools>=16.0 (from opentelemetry-instrumentation==0.45b0->opentelemetry-instrumentation-fastapi>=0.41b0->chromadb<0.5.0,>=0.4.17->embedchain)\n",
            "  Using cached setuptools-69.5.1-py3-none-any.whl (894 kB)\n",
            "Collecting wrapt<2.0.0,>=1.0.0 (from opentelemetry-instrumentation==0.45b0->opentelemetry-instrumentation-fastapi>=0.41b0->chromadb<0.5.0,>=0.4.17->embedchain)\n",
            "  Using cached wrapt-1.16.0-cp310-cp310-manylinux_2_5_x86_64.manylinux1_x86_64.manylinux_2_17_x86_64.manylinux2014_x86_64.whl (80 kB)\n",
            "Collecting asgiref~=3.0 (from opentelemetry-instrumentation-asgi==0.45b0->opentelemetry-instrumentation-fastapi>=0.41b0->chromadb<0.5.0,>=0.4.17->embedchain)\n",
            "  Using cached asgiref-3.8.1-py3-none-any.whl (23 kB)\n",
            "Collecting annotated-types>=0.4.0 (from pydantic>=1.9->chromadb<0.5.0,>=0.4.17->embedchain)\n",
            "  Using cached annotated_types-0.6.0-py3-none-any.whl (12 kB)\n",
            "Collecting pydantic-core==2.18.2 (from pydantic>=1.9->chromadb<0.5.0,>=0.4.17->embedchain)\n",
            "  Using cached pydantic_core-2.18.2-cp310-cp310-manylinux_2_17_x86_64.manylinux2014_x86_64.whl (2.1 MB)\n",
            "Collecting charset-normalizer<4,>=2 (from requests>=2.28->chromadb<0.5.0,>=0.4.17->embedchain)\n",
            "  Using cached charset_normalizer-3.3.2-cp310-cp310-manylinux_2_17_x86_64.manylinux2014_x86_64.whl (142 kB)\n",
            "Collecting huggingface-hub<1.0,>=0.16.4 (from tokenizers>=0.13.2->chromadb<0.5.0,>=0.4.17->embedchain)\n",
            "  Using cached huggingface_hub-0.22.2-py3-none-any.whl (388 kB)\n",
            "Collecting click>=8.0.0 (from typer>=0.9.0->chromadb<0.5.0,>=0.4.17->embedchain)\n",
            "  Using cached click-8.1.7-py3-none-any.whl (97 kB)\n",
            "Collecting shellingham>=1.3.0 (from typer>=0.9.0->chromadb<0.5.0,>=0.4.17->embedchain)\n",
            "  Using cached shellingham-1.5.4-py2.py3-none-any.whl (9.8 kB)\n",
            "Collecting httptools>=0.5.0 (from uvicorn[standard]>=0.18.3->chromadb<0.5.0,>=0.4.17->embedchain)\n",
            "  Using cached httptools-0.6.1-cp310-cp310-manylinux_2_5_x86_64.manylinux1_x86_64.manylinux_2_17_x86_64.manylinux2014_x86_64.whl (341 kB)\n",
            "Collecting uvloop!=0.15.0,!=0.15.1,>=0.14.0 (from uvicorn[standard]>=0.18.3->chromadb<0.5.0,>=0.4.17->embedchain)\n",
            "  Using cached uvloop-0.19.0-cp310-cp310-manylinux_2_17_x86_64.manylinux2014_x86_64.whl (3.4 MB)\n",
            "Collecting watchfiles>=0.13 (from uvicorn[standard]>=0.18.3->chromadb<0.5.0,>=0.4.17->embedchain)\n",
            "  Using cached watchfiles-0.21.0-cp310-cp310-manylinux_2_17_x86_64.manylinux2014_x86_64.whl (1.3 MB)\n",
            "Collecting websockets>=10.4 (from uvicorn[standard]>=0.18.3->chromadb<0.5.0,>=0.4.17->embedchain)\n",
            "  Using cached websockets-12.0-cp310-cp310-manylinux_2_5_x86_64.manylinux1_x86_64.manylinux_2_17_x86_64.manylinux2014_x86_64.whl (130 kB)\n",
            "Collecting MarkupSafe>=0.9.2 (from Mako->alembic<2.0.0,>=1.13.1->embedchain)\n",
            "  Using cached MarkupSafe-2.1.5-cp310-cp310-manylinux_2_17_x86_64.manylinux2014_x86_64.whl (25 kB)\n",
            "Collecting filelock (from huggingface-hub<1.0,>=0.16.4->tokenizers>=0.13.2->chromadb<0.5.0,>=0.4.17->embedchain)\n",
            "  Using cached filelock-3.13.4-py3-none-any.whl (11 kB)\n",
            "Collecting fsspec>=2023.5.0 (from huggingface-hub<1.0,>=0.16.4->tokenizers>=0.13.2->chromadb<0.5.0,>=0.4.17->embedchain)\n",
            "  Using cached fsspec-2024.3.1-py3-none-any.whl (171 kB)\n",
            "Collecting zipp>=0.5 (from importlib-metadata<=7.0,>=6.0->opentelemetry-api>=1.2.0->chromadb<0.5.0,>=0.4.17->embedchain)\n",
            "  Using cached zipp-3.18.1-py3-none-any.whl (8.2 kB)\n",
            "Collecting pyasn1<0.7.0,>=0.4.6 (from pyasn1-modules>=0.2.1->google-auth<3.0.0dev,>=2.14.1->google-cloud-aiplatform<2.0.0,>=1.26.1->embedchain)\n",
            "  Using cached pyasn1-0.6.0-py2.py3-none-any.whl (85 kB)\n",
            "Collecting mypy-extensions>=0.3.0 (from typing-inspect<1,>=0.4.0->dataclasses-json<0.7,>=0.5.7->langchain<0.2.0,>=0.1.4->embedchain)\n",
            "  Using cached mypy_extensions-1.0.0-py3-none-any.whl (4.7 kB)\n",
            "Collecting humanfriendly>=9.1 (from coloredlogs->onnxruntime>=1.14.1->chromadb<0.5.0,>=0.4.17->embedchain)\n",
            "  Using cached humanfriendly-10.0-py2.py3-none-any.whl (86 kB)\n",
            "Collecting mpmath>=0.19 (from sympy->onnxruntime>=1.14.1->chromadb<0.5.0,>=0.4.17->embedchain)\n",
            "  Using cached mpmath-1.3.0-py3-none-any.whl (536 kB)\n",
            "Installing collected packages: pypika, mpmath, monotonic, mmh3, flatbuffers, zipp, wrapt, websockets, websocket-client, uvloop, urllib3, typing-extensions, tqdm, tomli, tenacity, sympy, soupsieve, sniffio, six, shellingham, setuptools, regex, PyYAML, python-dotenv, pysbd, pypdf, pygments, pyasn1, protobuf, packaging, overrides, orjson, opentelemetry-util-http, opentelemetry-semantic-conventions, oauthlib, numpy, mypy-extensions, multidict, mdurl, MarkupSafe, jsonpointer, importlib-resources, idna, humanfriendly, httptools, h11, grpcio, greenlet, google-crc32c, fsspec, frozenlist, filelock, exceptiongroup, docstring-parser, distro, contextlib2, click, charset-normalizer, certifi, cachetools, bcrypt, backoff, attrs, async-timeout, annotated-types, yarl, uvicorn, typing-inspect, sqlalchemy, shapely, schema, rsa, requests, python-dateutil, pyproject_hooks, pydantic-core, pyasn1-modules, pulsar-client, proto-plus, opentelemetry-proto, marshmallow, markdown-it-py, Mako, jsonpatch, importlib-metadata, httpcore, googleapis-common-protos, google-resumable-media, deprecated, coloredlogs, chroma-hnswlib, beautifulsoup4, asgiref, anyio, aiosignal, watchfiles, tiktoken, starlette, rich, requests-oauthlib, pydantic, posthog, opentelemetry-exporter-otlp-proto-common, opentelemetry-api, onnxruntime, huggingface-hub, httpx, grpcio-status, gptcache, google-auth, dataclasses-json, build, alembic, aiohttp, typer, tokenizers, opentelemetry-sdk, opentelemetry-instrumentation, openai, langsmith, kubernetes, grpc-google-iam-v1, google-api-core, fastapi, opentelemetry-instrumentation-asgi, opentelemetry-exporter-otlp-proto-grpc, langchain-core, google-cloud-core, opentelemetry-instrumentation-fastapi, langchain-text-splitters, langchain-openai, langchain-community, google-cloud-storage, google-cloud-resource-manager, google-cloud-bigquery, langchain, google-cloud-aiplatform, chromadb, embedchain\n",
            "\u001b[31mERROR: pip's dependency resolver does not currently take into account all the packages that are installed. This behaviour is the source of the following dependency conflicts.\n",
            "ipython 7.34.0 requires jedi>=0.16, which is not installed.\n",
            "lida 0.0.10 requires kaleido, which is not installed.\n",
            "lida 0.0.10 requires python-multipart, which is not installed.\n",
            "llmx 0.0.15a0 requires cohere, which is not installed.\n",
            "gcsfs 2023.6.0 requires fsspec==2023.6.0, but you have fsspec 2024.3.1 which is incompatible.\n",
            "google-colab 1.0.0 requires google-auth==2.17.3, but you have google-auth 2.29.0 which is incompatible.\n",
            "jupyter-server 1.24.0 requires anyio<4,>=3.1.0, but you have anyio 4.3.0 which is incompatible.\n",
            "spacy 3.7.2 requires typer<0.10.0,>=0.3.0, but you have typer 0.12.3 which is incompatible.\n",
            "tensorboard 2.15.1 requires protobuf<4.24,>=3.19.6, but you have protobuf 4.25.3 which is incompatible.\n",
            "tensorflow 2.15.0 requires wrapt<1.15,>=1.11.0, but you have wrapt 1.16.0 which is incompatible.\n",
            "tensorflow-metadata 1.14.0 requires protobuf<4.21,>=3.20.3, but you have protobuf 4.25.3 which is incompatible.\n",
            "transformers 4.35.2 requires tokenizers<0.19,>=0.14, but you have tokenizers 0.19.1 which is incompatible.\n",
            "tweepy 4.14.0 requires requests-oauthlib<2,>=1.2.0, but you have requests-oauthlib 2.0.0 which is incompatible.\n",
            "weasel 0.3.4 requires typer<0.10.0,>=0.3.0, but you have typer 0.12.3 which is incompatible.\u001b[0m\u001b[31m\n",
            "\u001b[0mSuccessfully installed Mako-1.3.3 MarkupSafe-2.1.5 PyYAML-6.0.1 aiohttp-3.9.3 aiosignal-1.3.1 alembic-1.13.1 annotated-types-0.6.0 anyio-3.7.1 asgiref-3.8.1 async-timeout-4.0.3 attrs-23.2.0 backoff-2.2.1 bcrypt-4.1.2 beautifulsoup4-4.12.3 build-1.0.3 cachetools-5.3.2 certifi-2024.2.2 charset-normalizer-3.3.2 chroma-hnswlib-0.7.3 chromadb-0.4.24 click-8.1.7 coloredlogs-15.0.1 contextlib2-21.6.0 dataclasses-json-0.6.4 deprecated-1.2.14 distro-1.9.0 docstring-parser-0.16 embedchain-0.1.102 exceptiongroup-1.2.0 fastapi-0.110.2 filelock-3.13.1 flatbuffers-23.5.26 frozenlist-1.4.1 fsspec-2023.6.0 google-api-core-2.11.1 google-auth-2.17.3 google-cloud-aiplatform-1.39.0 google-cloud-bigquery-3.12.0 google-cloud-core-2.3.3 google-cloud-resource-manager-1.12.0 google-cloud-storage-2.16.0 google-crc32c-1.5.0 google-resumable-media-2.7.0 googleapis-common-protos-1.62.0 gptcache-0.1.43 greenlet-3.0.3 grpc-google-iam-v1-0.13.0 grpcio-1.60.1 grpcio-status-1.48.2 h11-0.14.0 httpcore-1.0.5 httptools-0.6.1 httpx-0.27.0 huggingface-hub-0.20.3 humanfriendly-10.0 idna-3.6 importlib-metadata-7.0.0 importlib-resources-6.1.1 jsonpatch-1.33 jsonpointer-2.4 kubernetes-29.0.0 langchain-0.1.16 langchain-community-0.0.34 langchain-core-0.1.45 langchain-openai-0.0.5 langchain-text-splitters-0.0.1 langsmith-0.1.50 markdown-it-py-3.0.0 marshmallow-3.21.1 mdurl-0.1.2 mmh3-4.1.0 monotonic-1.6 mpmath-1.3.0 multidict-6.0.5 mypy-extensions-1.0.0 numpy-1.23.5 oauthlib-3.2.2 onnxruntime-1.17.3 openai-1.23.4 opentelemetry-api-1.24.0 opentelemetry-exporter-otlp-proto-common-1.24.0 opentelemetry-exporter-otlp-proto-grpc-1.24.0 opentelemetry-instrumentation-0.45b0 opentelemetry-instrumentation-asgi-0.45b0 opentelemetry-instrumentation-fastapi-0.45b0 opentelemetry-proto-1.24.0 opentelemetry-sdk-1.24.0 opentelemetry-semantic-conventions-0.45b0 opentelemetry-util-http-0.45b0 orjson-3.10.1 overrides-7.7.0 packaging-23.2 posthog-3.5.0 proto-plus-1.23.0 protobuf-3.20.3 pulsar-client-3.5.0 pyasn1-0.5.1 pyasn1-modules-0.3.0 pydantic-2.6.0 pydantic-core-2.16.1 pygments-2.16.1 pypdf-3.17.4 pypika-0.48.9 pyproject_hooks-1.0.0 pysbd-0.3.4 python-dateutil-2.8.2 python-dotenv-1.0.1 regex-2023.12.25 requests-2.31.0 requests-oauthlib-1.3.1 rich-13.7.0 rsa-4.9 schema-0.7.5 setuptools-67.7.2 shapely-2.0.2 shellingham-1.5.4 six-1.16.0 sniffio-1.3.0 soupsieve-2.5 sqlalchemy-2.0.25 starlette-0.37.2 sympy-1.12 tenacity-8.2.3 tiktoken-0.5.2 tokenizers-0.15.1 tomli-2.0.1 tqdm-4.66.1 typer-0.12.3 typing-extensions-4.11.0 typing-inspect-0.9.0 urllib3-1.26.18 uvicorn-0.29.0 uvloop-0.19.0 watchfiles-0.21.0 websocket-client-1.7.0 websockets-12.0 wrapt-1.14.1 yarl-1.9.4 zipp-3.17.0\n"
          ]
        },
        {
          "output_type": "display_data",
          "data": {
            "application/vnd.colab-display-data+json": {
              "pip_warning": {
                "packages": [
                  "_distutils_hack",
                  "cachetools",
                  "certifi",
                  "charset_normalizer",
                  "dateutil",
                  "google",
                  "grpc",
                  "grpc_status",
                  "huggingface_hub",
                  "importlib_resources",
                  "mpmath",
                  "numpy",
                  "pkg_resources",
                  "proto",
                  "pygments",
                  "requests",
                  "setuptools",
                  "shapely",
                  "six",
                  "sympy",
                  "tqdm",
                  "urllib3",
                  "yaml"
                ]
              }
            }
          },
          "metadata": {}
        }
      ]
    },
    {
      "cell_type": "code",
      "source": [],
      "metadata": {
        "id": "Ah2JFPAXiRGB"
      },
      "execution_count": null,
      "outputs": []
    }
  ]
}